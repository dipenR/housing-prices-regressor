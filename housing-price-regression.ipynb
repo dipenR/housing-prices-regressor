{
 "metadata": {
  "language_info": {
   "codemirror_mode": {
    "name": "ipython",
    "version": 3
   },
   "file_extension": ".py",
   "mimetype": "text/x-python",
   "name": "python",
   "nbconvert_exporter": "python",
   "pygments_lexer": "ipython3",
   "version": "3.8.5-final"
  },
  "orig_nbformat": 2,
  "kernelspec": {
   "name": "python3",
   "display_name": "Python 3",
   "language": "python"
  }
 },
 "nbformat": 4,
 "nbformat_minor": 2,
 "cells": [
  {
   "source": [
    "# Feature preprocessing\n",
    "\n",
    "### Convert all categorical variables using ordinal/dummy encoding\n",
    "### Normalize all features\n",
    "### Generate a few new features."
   ],
   "cell_type": "markdown",
   "metadata": {}
  },
  {
   "cell_type": "code",
   "execution_count": 1,
   "metadata": {},
   "outputs": [],
   "source": [
    "import numpy as np\n",
    "import pandas as pd\n",
    "import pandas_profiling as pp\n",
    "import matplotlib.pyplot as plt\n",
    "import seaborn as sns\n",
    "\n",
    "%matplotlib inline\n",
    "%reload_ext autoreload\n",
    "%autoreload 2"
   ]
  },
  {
   "cell_type": "code",
   "execution_count": 2,
   "metadata": {},
   "outputs": [],
   "source": [
    "train = pd.read_csv(\"../Data/HousingPrices/train.csv\", index_col=\"Id\")\n",
    "test = pd.read_csv(\"../Data/HousingPrices/test.csv\", index_col=\"Id\")\n",
    "\n",
    "train.columns = train.columns.str.lower()\n",
    "test.columns = test.columns.str.lower()"
   ]
  },
  {
   "cell_type": "code",
   "execution_count": null,
   "metadata": {},
   "outputs": [],
   "source": [
    "train.shape, test.shape"
   ]
  },
  {
   "cell_type": "code",
   "execution_count": 31,
   "metadata": {},
   "outputs": [
    {
     "output_type": "stream",
     "name": "stdout",
     "text": [
      "    mssubclass  lotfrontage  lotarea  utilities  overallqual  overallcond  \\\nId                                                                          \n1           60         65.0     8450        0.0            7            5   \n2           20         80.0     9600        0.0            6            8   \n3           60         68.0    11250        0.0            7            5   \n4           70         60.0     9550        0.0            7            5   \n5           60         84.0    14260        0.0            8            5   \n\n    yearbuilt  yearremodadd  masvnrarea  exterqual  ...  \\\nId                                                  ...   \n1        2003          2003       196.0        2.0  ...   \n2        1976          1976         0.0        3.0  ...   \n3        2001          2002       162.0        2.0  ...   \n4        1915          1970         0.0        3.0  ...   \n5        2000          2000       350.0        2.0  ...   \n\n    salecondition_Partial  saletype_COD  saletype_CWD  saletype_Con  \\\nId                                                                    \n1                       0             0             0             0   \n2                       0             0             0             0   \n3                       0             0             0             0   \n4                       0             0             0             0   \n5                       0             0             0             0   \n\n    saletype_ConLD  saletype_ConLI  saletype_ConLw  saletype_New  \\\nId                                                                 \n1                0               0               0             0   \n2                0               0               0             0   \n3                0               0               0             0   \n4                0               0               0             0   \n5                0               0               0             0   \n\n    saletype_Oth  saletype_WD  \nId                             \n1              0            1  \n2              0            1  \n3              0            1  \n4              0            1  \n5              0            1  \n\n[5 rows x 233 columns]\n"
     ]
    }
   ],
   "source": [
    "print(train.head(5))"
   ]
  },
  {
   "cell_type": "code",
   "execution_count": 32,
   "metadata": {},
   "outputs": [
    {
     "output_type": "execute_result",
     "data": {
      "text/plain": [
       "      mssubclass  lotfrontage  lotarea  utilities  overallqual  overallcond  \\\n",
       "Id                                                                            \n",
       "1461          20         80.0    11622        0.0            5            6   \n",
       "1462          20         81.0    14267        0.0            6            6   \n",
       "1463          60         74.0    13830        0.0            5            5   \n",
       "1464          60         78.0     9978        0.0            6            6   \n",
       "1465         120         43.0     5005        0.0            8            5   \n",
       "\n",
       "      yearbuilt  yearremodadd  masvnrarea  exterqual  ...  \\\n",
       "Id                                                    ...   \n",
       "1461       1961          1961         0.0        3.0  ...   \n",
       "1462       1958          1958       108.0        3.0  ...   \n",
       "1463       1997          1998         0.0        3.0  ...   \n",
       "1464       1998          1998        20.0        3.0  ...   \n",
       "1465       1992          1992         0.0        2.0  ...   \n",
       "\n",
       "      salecondition_Partial  saletype_COD  saletype_CWD  saletype_Con  \\\n",
       "Id                                                                      \n",
       "1461                      0             0             0             0   \n",
       "1462                      0             0             0             0   \n",
       "1463                      0             0             0             0   \n",
       "1464                      0             0             0             0   \n",
       "1465                      0             0             0             0   \n",
       "\n",
       "      saletype_ConLD  saletype_ConLI  saletype_ConLw  saletype_New  \\\n",
       "Id                                                                   \n",
       "1461               0               0               0             0   \n",
       "1462               0               0               0             0   \n",
       "1463               0               0               0             0   \n",
       "1464               0               0               0             0   \n",
       "1465               0               0               0             0   \n",
       "\n",
       "      saletype_Oth  saletype_WD  \n",
       "Id                               \n",
       "1461             0            1  \n",
       "1462             0            1  \n",
       "1463             0            1  \n",
       "1464             0            1  \n",
       "1465             0            1  \n",
       "\n",
       "[5 rows x 217 columns]"
      ],
      "text/html": "<div>\n<style scoped>\n    .dataframe tbody tr th:only-of-type {\n        vertical-align: middle;\n    }\n\n    .dataframe tbody tr th {\n        vertical-align: top;\n    }\n\n    .dataframe thead th {\n        text-align: right;\n    }\n</style>\n<table border=\"1\" class=\"dataframe\">\n  <thead>\n    <tr style=\"text-align: right;\">\n      <th></th>\n      <th>mssubclass</th>\n      <th>lotfrontage</th>\n      <th>lotarea</th>\n      <th>utilities</th>\n      <th>overallqual</th>\n      <th>overallcond</th>\n      <th>yearbuilt</th>\n      <th>yearremodadd</th>\n      <th>masvnrarea</th>\n      <th>exterqual</th>\n      <th>...</th>\n      <th>salecondition_Partial</th>\n      <th>saletype_COD</th>\n      <th>saletype_CWD</th>\n      <th>saletype_Con</th>\n      <th>saletype_ConLD</th>\n      <th>saletype_ConLI</th>\n      <th>saletype_ConLw</th>\n      <th>saletype_New</th>\n      <th>saletype_Oth</th>\n      <th>saletype_WD</th>\n    </tr>\n    <tr>\n      <th>Id</th>\n      <th></th>\n      <th></th>\n      <th></th>\n      <th></th>\n      <th></th>\n      <th></th>\n      <th></th>\n      <th></th>\n      <th></th>\n      <th></th>\n      <th></th>\n      <th></th>\n      <th></th>\n      <th></th>\n      <th></th>\n      <th></th>\n      <th></th>\n      <th></th>\n      <th></th>\n      <th></th>\n      <th></th>\n    </tr>\n  </thead>\n  <tbody>\n    <tr>\n      <th>1461</th>\n      <td>20</td>\n      <td>80.0</td>\n      <td>11622</td>\n      <td>0.0</td>\n      <td>5</td>\n      <td>6</td>\n      <td>1961</td>\n      <td>1961</td>\n      <td>0.0</td>\n      <td>3.0</td>\n      <td>...</td>\n      <td>0</td>\n      <td>0</td>\n      <td>0</td>\n      <td>0</td>\n      <td>0</td>\n      <td>0</td>\n      <td>0</td>\n      <td>0</td>\n      <td>0</td>\n      <td>1</td>\n    </tr>\n    <tr>\n      <th>1462</th>\n      <td>20</td>\n      <td>81.0</td>\n      <td>14267</td>\n      <td>0.0</td>\n      <td>6</td>\n      <td>6</td>\n      <td>1958</td>\n      <td>1958</td>\n      <td>108.0</td>\n      <td>3.0</td>\n      <td>...</td>\n      <td>0</td>\n      <td>0</td>\n      <td>0</td>\n      <td>0</td>\n      <td>0</td>\n      <td>0</td>\n      <td>0</td>\n      <td>0</td>\n      <td>0</td>\n      <td>1</td>\n    </tr>\n    <tr>\n      <th>1463</th>\n      <td>60</td>\n      <td>74.0</td>\n      <td>13830</td>\n      <td>0.0</td>\n      <td>5</td>\n      <td>5</td>\n      <td>1997</td>\n      <td>1998</td>\n      <td>0.0</td>\n      <td>3.0</td>\n      <td>...</td>\n      <td>0</td>\n      <td>0</td>\n      <td>0</td>\n      <td>0</td>\n      <td>0</td>\n      <td>0</td>\n      <td>0</td>\n      <td>0</td>\n      <td>0</td>\n      <td>1</td>\n    </tr>\n    <tr>\n      <th>1464</th>\n      <td>60</td>\n      <td>78.0</td>\n      <td>9978</td>\n      <td>0.0</td>\n      <td>6</td>\n      <td>6</td>\n      <td>1998</td>\n      <td>1998</td>\n      <td>20.0</td>\n      <td>3.0</td>\n      <td>...</td>\n      <td>0</td>\n      <td>0</td>\n      <td>0</td>\n      <td>0</td>\n      <td>0</td>\n      <td>0</td>\n      <td>0</td>\n      <td>0</td>\n      <td>0</td>\n      <td>1</td>\n    </tr>\n    <tr>\n      <th>1465</th>\n      <td>120</td>\n      <td>43.0</td>\n      <td>5005</td>\n      <td>0.0</td>\n      <td>8</td>\n      <td>5</td>\n      <td>1992</td>\n      <td>1992</td>\n      <td>0.0</td>\n      <td>2.0</td>\n      <td>...</td>\n      <td>0</td>\n      <td>0</td>\n      <td>0</td>\n      <td>0</td>\n      <td>0</td>\n      <td>0</td>\n      <td>0</td>\n      <td>0</td>\n      <td>0</td>\n      <td>1</td>\n    </tr>\n  </tbody>\n</table>\n<p>5 rows × 217 columns</p>\n</div>"
     },
     "metadata": {},
     "execution_count": 32
    }
   ],
   "source": [
    "test.head(5)"
   ]
  },
  {
   "cell_type": "code",
   "execution_count": null,
   "metadata": {},
   "outputs": [],
   "source": [
    "totalnull = 0\n",
    "for column in train.columns:\n",
    "    currentnull = train[column].isnull().sum()\n",
    "    totalnull += currentnull\n",
    "    print(column, currentnull, totalnull)"
   ]
  },
  {
   "cell_type": "code",
   "execution_count": null,
   "metadata": {},
   "outputs": [],
   "source": [
    "totalnull = 0\n",
    "for column in test.columns:\n",
    "    currentnull = test[column].isnull().sum()\n",
    "    totalnull += currentnull\n",
    "    print(column, currentnull, totalnull)"
   ]
  },
  {
   "cell_type": "code",
   "execution_count": null,
   "metadata": {
    "tags": []
   },
   "outputs": [],
   "source": [
    "train.info()"
   ]
  },
  {
   "cell_type": "code",
   "execution_count": null,
   "metadata": {},
   "outputs": [],
   "source": [
    "corr = train.corr()['saleprice'].to_frame()\n",
    "corr.sort_values(by='saleprice', ascending=False)"
   ]
  },
  {
   "source": [
    "# Fill missing values\n",
    "  ### Run this for quick fillna"
   ],
   "cell_type": "markdown",
   "metadata": {}
  },
  {
   "cell_type": "code",
   "execution_count": 3,
   "metadata": {},
   "outputs": [],
   "source": [
    "# Some specific value inputs that were found via ED below - \n",
    "# filled so that they do not become a generic NA/0.0\n",
    "test.loc[2421, 'poolqc'] = test.loc[2504, 'poolqc'] = test.loc[2600, 'poolqc'] = 'Fa'\n",
    "test.loc[2041, 'bsmtcond'] = test.loc[2186, 'bsmtcond'] = test.loc[2525, 'bsmtcond'] = 'TA' \n",
    "\n",
    "nulltoNA = [train.alley, test.alley, \n",
    "train.masvnrtype, test.masvnrtype, \n",
    "train.bsmtqual, train.bsmtcond, train.bsmtexposure, train.bsmtfintype1, train.bsmtfintype2, test.bsmtqual, test.bsmtcond, test.bsmtexposure, test.bsmtfintype1, test.bsmtfintype2, \n",
    "train.poolqc, test.poolqc, \n",
    "test.kitchenqual, \n",
    "train.fireplacequ, test.fireplacequ, \n",
    "train.garagetype, train.garagefinish, train.garagequal, train.garagecond, \n",
    "test.garagetype, test.garagefinish, test.garagequal, test.garagecond, \n",
    "train.fence, test.fence, \n",
    "train.miscfeature, test.miscfeature]\n",
    "\n",
    "nulltoZero = [train.lotfrontage, test.lotfrontage, \n",
    "test.bsmtfinsf1, test.bsmtfinsf2, test.bsmtunfsf, \n",
    "test.totalbsmtsf, test.bsmtfullbath, test.bsmthalfbath, \n",
    "train.garageyrblt, test.garageyrblt, test.garagecars, test.garagearea]\n",
    "\n",
    "for item in nulltoNA:\n",
    "    item.fillna('NA', inplace=True)\n",
    "\n",
    "for item in nulltoZero:\n",
    "    item.fillna(0, inplace=True)\n",
    "\n",
    "test.mszoning.fillna('RL', inplace=True)\n",
    "\n",
    "test.utilities.fillna('AllPub', inplace=True)\n",
    "\n",
    "test.exterior1st.fillna('VinylSd', inplace=True)\n",
    "test.exterior2nd.fillna('VinylSd', inplace=True)\n",
    "\n",
    "train.masvnrtype.fillna('None', inplace=True)\n",
    "train.masvnrarea.fillna(train.masvnrarea.median(), inplace=True) # median is 0\n",
    "test.masvnrtype.fillna('None', inplace=True)\n",
    "test.masvnrarea.fillna(train.masvnrarea.median(), inplace=True)\n",
    "\n",
    "test.functional.fillna('Typ', inplace=True)\n",
    "\n",
    "train.electrical.fillna('SBrkr', inplace=True)\n",
    "\n",
    "test.kitchenqual.fillna('TA', inplace=True)\n",
    "\n",
    "test.fillna('WD', inplace=True)"
   ]
  },
  {
   "source": [
    "## MSzoning"
   ],
   "cell_type": "markdown",
   "metadata": {}
  },
  {
   "cell_type": "code",
   "execution_count": null,
   "metadata": {},
   "outputs": [],
   "source": [
    "sns.countplot(test.mszoning)"
   ]
  },
  {
   "cell_type": "code",
   "execution_count": null,
   "metadata": {},
   "outputs": [],
   "source": [
    "test.mszoning.fillna('RL', inplace=True)"
   ]
  },
  {
   "source": [
    "## Lot Frontage"
   ],
   "cell_type": "markdown",
   "metadata": {}
  },
  {
   "cell_type": "code",
   "execution_count": null,
   "metadata": {},
   "outputs": [],
   "source": [
    "train.lotfrontage.fillna(0.0, inplace=True)\n",
    "test.lotfrontage.fillna(0.0, inplace=True)"
   ]
  },
  {
   "source": [
    "## Alley"
   ],
   "cell_type": "markdown",
   "metadata": {}
  },
  {
   "cell_type": "code",
   "execution_count": null,
   "metadata": {},
   "outputs": [],
   "source": [
    "set(train.alley)"
   ]
  },
  {
   "cell_type": "code",
   "execution_count": null,
   "metadata": {},
   "outputs": [],
   "source": [
    "sns.barplot(x=train.alley, y=train.saleprice)"
   ]
  },
  {
   "cell_type": "code",
   "execution_count": null,
   "metadata": {},
   "outputs": [],
   "source": [
    "train.alley.fillna('NA', inplace=True)\n",
    "test.alley.fillna('NA', inplace=True)"
   ]
  },
  {
   "source": [
    "## Utitlities"
   ],
   "cell_type": "markdown",
   "metadata": {}
  },
  {
   "cell_type": "code",
   "execution_count": null,
   "metadata": {},
   "outputs": [],
   "source": [
    "sns.countplot(test.utilities)"
   ]
  },
  {
   "cell_type": "code",
   "execution_count": null,
   "metadata": {},
   "outputs": [],
   "source": [
    "test.utilities.fillna('AllPub', inplace=True)"
   ]
  },
  {
   "source": [
    "## exterior 1st and 2nd"
   ],
   "cell_type": "markdown",
   "metadata": {}
  },
  {
   "cell_type": "code",
   "execution_count": null,
   "metadata": {},
   "outputs": [],
   "source": [
    "plt.figure(figsize=(16,5))\n",
    "plt.subplot(2,1,1)\n",
    "sns.countplot(test.exterior1st)\n",
    "plt.subplot(2,1,2)\n",
    "sns.countplot(test.exterior2nd)"
   ]
  },
  {
   "cell_type": "code",
   "execution_count": null,
   "metadata": {},
   "outputs": [],
   "source": [
    "test.exterior1st.fillna('VinylSd', inplace=True)\n",
    "test.exterior2nd.fillna('VinylSd', inplace=True)"
   ]
  },
  {
   "cell_type": "code",
   "execution_count": null,
   "metadata": {},
   "outputs": [],
   "source": [
    "test[test['exterior1st'] == 'VinylSd'][pd.Index(['exterior2nd'])].values"
   ]
  },
  {
   "source": [
    "## Masvnr - masvnrtype masvnrarea"
   ],
   "cell_type": "markdown",
   "metadata": {}
  },
  {
   "cell_type": "code",
   "execution_count": null,
   "metadata": {},
   "outputs": [],
   "source": [
    "set(train.masvnrtype), set(train.masvnrarea)"
   ]
  },
  {
   "cell_type": "code",
   "execution_count": null,
   "metadata": {},
   "outputs": [],
   "source": [
    "train.masvnrarea.median()"
   ]
  },
  {
   "cell_type": "code",
   "execution_count": null,
   "metadata": {},
   "outputs": [],
   "source": [
    "train.masvnrarea.isnull().sum(), train.masvnrtype.isnull().sum()"
   ]
  },
  {
   "cell_type": "code",
   "execution_count": null,
   "metadata": {},
   "outputs": [],
   "source": [
    "plt.figure(figsize=(16,5))\n",
    "plt.subplot(1,2,1)\n",
    "sns.countplot(train.masvnrtype)\n",
    "plt.subplot(1,2,2)\n",
    "sns.distplot(train.masvnrarea)"
   ]
  },
  {
   "cell_type": "code",
   "execution_count": null,
   "metadata": {},
   "outputs": [],
   "source": [
    "train.masvnrtype.fillna('None', inplace=True)\n",
    "train.masvnrarea.fillna(0, inplace=True)\n",
    "test.masvnrtype.fillna('None', inplace=True)\n",
    "test.masvnrarea.fillna(train.masvnrarea.median(), inplace=True)"
   ]
  },
  {
   "source": [
    "## Bsmt -- bsmtqual bsmtcond bsmtexposure bsmtfintype1 bsmtfintpye2"
   ],
   "cell_type": "markdown",
   "metadata": {}
  },
  {
   "cell_type": "code",
   "execution_count": null,
   "metadata": {},
   "outputs": [],
   "source": [
    "set(train.bsmtqual), set(train.bsmtcond), set(train.bsmtexposure)"
   ]
  },
  {
   "cell_type": "code",
   "execution_count": null,
   "metadata": {},
   "outputs": [],
   "source": [
    "train[train['bsmtexposure'].isnull()][pd.Index(['bsmtqual', 'bsmtcond', 'bsmtexposure', 'bsmtfintype1', 'bsmtfintype2', 'bsmtfinsf1', 'bsmtfinsf2'])]"
   ]
  },
  {
   "cell_type": "code",
   "execution_count": null,
   "metadata": {},
   "outputs": [],
   "source": [
    "set(train.bsmtfintype1), set(train.bsmtfintype2)"
   ]
  },
  {
   "cell_type": "code",
   "execution_count": null,
   "metadata": {},
   "outputs": [],
   "source": [
    "test[test['bsmtunfsf'].isnull()][pd.Index(['bsmtqual', 'bsmtcond', 'bsmtexposure', 'bsmtfintype1', 'bsmtfintype2', 'bsmtfinsf1', 'bsmtfinsf2', 'bsmtunfsf', 'totalbsmtsf'])]"
   ]
  },
  {
   "cell_type": "code",
   "execution_count": null,
   "metadata": {},
   "outputs": [],
   "source": [
    "test[test['bsmtfullbath'].isnull()][pd.Index(['bsmtqual', 'bsmtcond', 'bsmtexposure', 'bsmtfintype1', 'bsmtfintype2', 'bsmtfinsf1', 'bsmtfinsf2', 'totalbsmtsf', 'bsmtfullbath', 'bsmthalfbath'])]"
   ]
  },
  {
   "cell_type": "code",
   "execution_count": null,
   "metadata": {},
   "outputs": [],
   "source": [
    "plt.figure(figsize=(16,5))\n",
    "plt.subplot(1,2,1)\n",
    "sns.countplot(test.bsmtfullbath)\n",
    "plt.subplot(1,2,2)\n",
    "sns.countplot(test.bsmtcond)"
   ]
  },
  {
   "cell_type": "code",
   "execution_count": null,
   "metadata": {},
   "outputs": [],
   "source": [
    "# 2041 2186 2525 - these are the only values that have only bsmtcond as null so we fill them individually with non null values\n",
    "test.loc[2041, 'bsmtcond'] = 'TA'  \n",
    "test.loc[2186, 'bsmtcond'] = 'TA'\n",
    "test.loc[2525, 'bsmtcond'] = 'TA'"
   ]
  },
  {
   "cell_type": "code",
   "execution_count": null,
   "metadata": {},
   "outputs": [],
   "source": [
    "test.bsmtqual.fillna('NA', inplace=True)\n",
    "test.bsmtcond.fillna('NA', inplace=True)\n",
    "test.bsmtexposure.fillna('NA', inplace=True)\n",
    "test.bsmtfintype1.fillna('NA', inplace=True)\n",
    "test.bsmtfintype2.fillna('NA', inplace=True)\n",
    "test.bsmtfinsf1.fillna(0.0, inplace=True)\n",
    "test.bsmtfinsf2.fillna(0.0, inplace=True)\n",
    "test.bsmtunfsf.fillna(0.0, inplace=True)\n",
    "test.totalbsmtsf.fillna(0.0, inplace=True)\n",
    "test.bsmtfullbath.fillna(0.0, inplace=True)\n",
    "test.bsmthalfbath.fillna(0.0, inplace=True)"
   ]
  },
  {
   "source": [
    "## Kitchenqual"
   ],
   "cell_type": "markdown",
   "metadata": {}
  },
  {
   "cell_type": "code",
   "execution_count": null,
   "metadata": {},
   "outputs": [],
   "source": [
    "sns.countplot(test.kitchenqual)"
   ]
  },
  {
   "cell_type": "code",
   "execution_count": null,
   "metadata": {},
   "outputs": [],
   "source": [
    "test[test['kitchenqual'].isnull()][pd.Index(['kitchenabvgr'])]"
   ]
  },
  {
   "cell_type": "code",
   "execution_count": null,
   "metadata": {},
   "outputs": [],
   "source": [
    "test.kitchenqual.fillna('TA', inplace=True)"
   ]
  },
  {
   "source": [
    "## Functional"
   ],
   "cell_type": "markdown",
   "metadata": {}
  },
  {
   "cell_type": "code",
   "execution_count": null,
   "metadata": {},
   "outputs": [],
   "source": [
    "sns.countplot(test.functional)"
   ]
  },
  {
   "cell_type": "code",
   "execution_count": null,
   "metadata": {},
   "outputs": [],
   "source": [
    "test.fillna('Typ', inplace=True)"
   ]
  },
  {
   "source": [
    "## PoolQC"
   ],
   "cell_type": "markdown",
   "metadata": {}
  },
  {
   "cell_type": "code",
   "execution_count": null,
   "metadata": {},
   "outputs": [],
   "source": [
    "sns.barplot(x=train.poolqc, y=train.saleprice)"
   ]
  },
  {
   "source": [
    "plt.figure(figsize=(15,5))\n",
    "sns.countplot(train.lotfrontage, hue=train.saleprice)"
   ],
   "cell_type": "code",
   "metadata": {},
   "execution_count": null,
   "outputs": []
  },
  {
   "cell_type": "code",
   "execution_count": null,
   "metadata": {},
   "outputs": [],
   "source": [
    "train.poolqc.isnull().sum()"
   ]
  },
  {
   "cell_type": "code",
   "execution_count": null,
   "metadata": {},
   "outputs": [],
   "source": [
    "test.loc[2421, 'poolqc'] = test.loc[2504, 'poolqc'] = test.loc[2600, 'poolqc'] = 'Fa'"
   ]
  },
  {
   "cell_type": "code",
   "execution_count": null,
   "metadata": {},
   "outputs": [],
   "source": [
    "train.poolqc.fillna('NA', inplace=True)\n",
    "test.poolqc.fillna('NA', inplace=True)"
   ]
  },
  {
   "cell_type": "code",
   "execution_count": null,
   "metadata": {},
   "outputs": [],
   "source": [
    "test[(test['poolqc'].isnull()) & (test['poolarea'] > 0)][pd.Index(['poolqc', 'poolarea'])]"
   ]
  },
  {
   "source": [
    "## Electrical"
   ],
   "cell_type": "markdown",
   "metadata": {}
  },
  {
   "cell_type": "code",
   "execution_count": null,
   "metadata": {},
   "outputs": [],
   "source": [
    "set(train['electrical'])"
   ]
  },
  {
   "cell_type": "code",
   "execution_count": null,
   "metadata": {},
   "outputs": [],
   "source": [
    "sns.countplot(train.electrical)"
   ]
  },
  {
   "source": [
    "train.electrical.fillna('SBrkr', inplace=True)"
   ],
   "cell_type": "code",
   "metadata": {},
   "execution_count": null,
   "outputs": []
  },
  {
   "source": [
    "## fireplacequ "
   ],
   "cell_type": "markdown",
   "metadata": {}
  },
  {
   "cell_type": "code",
   "execution_count": null,
   "metadata": {},
   "outputs": [],
   "source": [
    "set(train.fireplacequ)"
   ]
  },
  {
   "source": [
    "plt.figure(figsize=(16,5))\n",
    "plt.subplot(1,3,1)\n",
    "sns.countplot(train.fireplacequ)\n",
    "plt.subplot(1,3,2)\n",
    "sns.barplot(train.fireplacequ, train.saleprice)\n",
    "plt.subplot(1,3,3)\n",
    "sns.countplot(train.fireplaces)"
   ],
   "cell_type": "code",
   "metadata": {},
   "execution_count": null,
   "outputs": []
  },
  {
   "cell_type": "code",
   "execution_count": null,
   "metadata": {},
   "outputs": [],
   "source": [
    "fireplacenulls = test[test['fireplacequ'].isnull()][pd.Index(['fireplaces'])].values\n",
    "fireplacenulls"
   ]
  },
  {
   "cell_type": "code",
   "execution_count": null,
   "metadata": {},
   "outputs": [],
   "source": [
    "zeros = [i for fireplace in fireplacenulls for i in fireplace]\n",
    "set(zeros)"
   ]
  },
  {
   "cell_type": "code",
   "execution_count": null,
   "metadata": {},
   "outputs": [],
   "source": [
    "train.fireplacequ.fillna('NA', inplace=True)\n",
    "test.fireplacequ.fillna('NA', inplace=True)"
   ]
  },
  {
   "source": [
    "## Garage -- garagetype garageyrblt garagefinish garagequal garagecond"
   ],
   "cell_type": "markdown",
   "metadata": {}
  },
  {
   "cell_type": "code",
   "execution_count": null,
   "metadata": {},
   "outputs": [],
   "source": [
    "set(train.garagetype), set(train.garagefinish), set(train.garagequal), set(train.garagecond) #set"
   ]
  },
  {
   "cell_type": "code",
   "execution_count": null,
   "metadata": {},
   "outputs": [],
   "source": [
    "garagecolumns = ['garagetype', 'garageyrblt', 'garagefinish', 'garagecars', 'garagequal', 'garagearea', 'garagecond']\n",
    "for col in garagecolumns:\n",
    "    print(test[col].isnull().sum())"
   ]
  },
  {
   "cell_type": "code",
   "execution_count": null,
   "metadata": {},
   "outputs": [],
   "source": [
    "train[train['garagetype'].isnull()][pd.Index(['garageyrblt', 'garagefinish', 'garagecars', 'garagearea', 'garagequal', 'garagecond'])]"
   ]
  },
  {
   "cell_type": "code",
   "execution_count": null,
   "metadata": {},
   "outputs": [],
   "source": [
    "test[test['garagecars'].isnull()][pd.Index(['garageyrblt', 'garagefinish', 'garagecars', 'garagearea', 'garagequal', 'garagecond'])]"
   ]
  },
  {
   "source": [
    "train.garagetype.fillna('NA', inplace=True)\n",
    "train.garagefinish.fillna('NA', inplace=True)\n",
    "train.garageyrblt.fillna(0, inplace=True)\n",
    "train.garagequal.fillna('NA', inplace=True)\n",
    "train.garagecond.fillna('NA', inplace=True)\n",
    "\n",
    "test.garagetype.fillna('NA', inplace=True)\n",
    "test.garagefinish.fillna('NA', inplace=True)\n",
    "test.garageyrblt.fillna(0, inplace=True)\n",
    "test.garagequal.fillna('NA', inplace=True)\n",
    "test.garagecond.fillna('NA', inplace=True)\n",
    "test.garagecars.fillna(0.0, inplace=True)\n",
    "test.garagearea.fillna(0.0, inplace=True)"
   ],
   "cell_type": "code",
   "metadata": {},
   "execution_count": null,
   "outputs": []
  },
  {
   "source": [
    "## Fence"
   ],
   "cell_type": "markdown",
   "metadata": {}
  },
  {
   "cell_type": "code",
   "execution_count": null,
   "metadata": {},
   "outputs": [],
   "source": [
    "set(train.fence)"
   ]
  },
  {
   "cell_type": "code",
   "execution_count": null,
   "metadata": {},
   "outputs": [],
   "source": [
    "sns.barplot(train.fence, train.saleprice)"
   ]
  },
  {
   "source": [
    "train.fence.fillna('NA', inplace=True)"
   ],
   "cell_type": "code",
   "metadata": {},
   "execution_count": null,
   "outputs": []
  },
  {
   "source": [
    "## Miscfeature"
   ],
   "cell_type": "markdown",
   "metadata": {}
  },
  {
   "cell_type": "code",
   "execution_count": null,
   "metadata": {},
   "outputs": [],
   "source": [
    "set(train.miscfeature)"
   ]
  },
  {
   "cell_type": "code",
   "execution_count": null,
   "metadata": {},
   "outputs": [],
   "source": [
    "plt.figure(figsize=(16,5))\n",
    "plt.subplot(1,2,1)\n",
    "sns.barplot(train.miscfeature, train.saleprice)\n",
    "plt.subplot(1,2,2)\n",
    "sns.countplot(train.miscfeature)"
   ]
  },
  {
   "cell_type": "code",
   "execution_count": null,
   "metadata": {},
   "outputs": [],
   "source": [
    "train.miscfeature.fillna('NA', inplace=True)"
   ]
  },
  {
   "source": [
    "## Saletype"
   ],
   "cell_type": "markdown",
   "metadata": {}
  },
  {
   "cell_type": "code",
   "execution_count": null,
   "metadata": {},
   "outputs": [],
   "source": [
    "sns.countplot(test.saletype)"
   ]
  },
  {
   "cell_type": "code",
   "execution_count": null,
   "metadata": {},
   "outputs": [],
   "source": [
    "test.fillna('WD', inplace=True)"
   ]
  },
  {
   "source": [
    "# final check"
   ],
   "cell_type": "markdown",
   "metadata": {}
  },
  {
   "cell_type": "code",
   "execution_count": null,
   "metadata": {},
   "outputs": [],
   "source": [
    "train.isnull().sum().sum(), test.isnull().sum().sum()"
   ]
  },
  {
   "source": [
    "# Feature Processing\n",
    "### Ordinal and one-hot encoding categorical variables\n",
    "### processing numeric variables using logscaling and normalization"
   ],
   "cell_type": "markdown",
   "metadata": {}
  },
  {
   "source": [
    "{'condition2_RRAe',\n",
    " 'condition2_RRAn',\n",
    " 'condition2_RRNn',\n",
    " 'electrical_Mix',\n",
    " 'exterior1st_ImStucc',\n",
    " 'exterior1st_Stone',\n",
    " 'exterior2nd_Other',\n",
    " 'heating_Floor',\n",
    " 'heating_OthW',\n",
    " 'housestyle_2.5Fin',\n",
    " 'miscfeature_TenC',\n",
    " 'roofmatl_ClyTile',\n",
    " 'roofmatl_Membran',\n",
    " 'roofmatl_Metal',\n",
    " 'roofmatl_Roll'}"
   ],
   "cell_type": "markdown",
   "metadata": {}
  },
  {
   "cell_type": "code",
   "execution_count": 5,
   "metadata": {},
   "outputs": [
    {
     "output_type": "execute_result",
     "data": {
      "text/plain": [
       "array(['Artery', 'Feedr', 'Norm', 'PosA', 'PosN', 'RRAe', 'RRAn', 'RRNn'],\n",
       "      dtype=object)"
      ]
     },
     "metadata": {},
     "execution_count": 5
    }
   ],
   "source": [
    "np.union1d(train.condition2, test.condition2)\n",
    "# np.union1d(train.electrical, test.electrical)\n",
    "# np.union1d(train.exterior1st, test.exterior1st)\n",
    "# np.union1d(train.exterior2nd, test.exterior2nd)\n",
    "# np.union1d(train.heating, test.heating)\n",
    "# np.union1d(train.housestyle, test.housestyle)\n",
    "# np.union1d(train.miscfeature, test.miscfeature)\n",
    "# np.union1d(train.roofmatl, test.roofmatl)"
   ]
  },
  {
   "cell_type": "code",
   "execution_count": 5,
   "metadata": {},
   "outputs": [],
   "source": [
    "ordinals = ['utilities', 'exterqual', 'extercond', 'bsmtqual', 'bsmtcond', 'bsmtexposure', 'bsmtfintype1','bsmtfintype2', 'heatingqc', 'centralair', 'kitchenqual', 'functional', 'fireplacequ', 'garagefinish', 'garagequal', 'garagecond', 'poolqc', 'fence']\n",
    "\n",
    "dummys = ['mszoning', 'street', 'alley', 'lotshape', 'landcontour', 'lotconfig', 'landslope', 'neighborhood', 'condition1', 'condition2', 'bldgtype', 'housestyle', 'roofstyle', 'roofmatl', 'exterior1st', 'exterior2nd', 'masvnrtype', 'foundation', 'heating', 'electrical', 'garagetype', 'paveddrive', 'miscfeature', 'salecondition', 'saletype']\n",
    "\n",
    "numerical = ['lotfrontage', 'lotarea', 'mssubclass', 'masvnrarea', 'bsmtfinsf1', 'bsmtfinsf2', 'bsmtunfsf', 'totalbsmtsf', '1stflrsf', '2ndflrsf', 'lowqualfinsf', 'grlivarea', 'bsmtfullbath', 'bsmthalfbath', 'fullbath', 'halfbath', 'bedroom', 'kitchen', 'totrmsabvgrd', 'fireplaces', 'garagecars', 'yearbuilt', 'yearremodadd', 'garageyrblt', 'garagearea', 'wooddecksf', 'openporchsf', 'enclosedporch', '3ssnporch', 'screenporch', 'poolarea', 'miscval', 'mosold', 'yrsold']"
   ]
  },
  {
   "cell_type": "code",
   "execution_count": 11,
   "metadata": {},
   "outputs": [],
   "source": [
    "from sklearn.preprocessing import Normalizer"
   ]
  },
  {
   "cell_type": "code",
   "execution_count": 22,
   "metadata": {},
   "outputs": [
    {
     "output_type": "execute_result",
     "data": {
      "text/plain": [
       "<AxesSubplot:ylabel='Density'>"
      ]
     },
     "metadata": {},
     "execution_count": 22
    },
    {
     "output_type": "display_data",
     "data": {
      "text/plain": "<Figure size 432x288 with 2 Axes>",
      "image/svg+xml": "<?xml version=\"1.0\" encoding=\"utf-8\" standalone=\"no\"?>\n<!DOCTYPE svg PUBLIC \"-//W3C//DTD SVG 1.1//EN\"\n  \"http://www.w3.org/Graphics/SVG/1.1/DTD/svg11.dtd\">\n<!-- Created with matplotlib (https://matplotlib.org/) -->\n<svg height=\"262.19625pt\" version=\"1.1\" viewBox=\"0 0 398.50625 262.19625\" width=\"398.50625pt\" xmlns=\"http://www.w3.org/2000/svg\" xmlns:xlink=\"http://www.w3.org/1999/xlink\">\n <metadata>\n  <rdf:RDF xmlns:cc=\"http://creativecommons.org/ns#\" xmlns:dc=\"http://purl.org/dc/elements/1.1/\" xmlns:rdf=\"http://www.w3.org/1999/02/22-rdf-syntax-ns#\">\n   <cc:Work>\n    <dc:type rdf:resource=\"http://purl.org/dc/dcmitype/StillImage\"/>\n    <dc:date>2021-01-16T02:49:15.866251</dc:date>\n    <dc:format>image/svg+xml</dc:format>\n    <dc:creator>\n     <cc:Agent>\n      <dc:title>Matplotlib v3.3.2, https://matplotlib.org/</dc:title>\n     </cc:Agent>\n    </dc:creator>\n   </cc:Work>\n  </rdf:RDF>\n </metadata>\n <defs>\n  <style type=\"text/css\">*{stroke-linecap:butt;stroke-linejoin:round;}</style>\n </defs>\n <g id=\"figure_1\">\n  <g id=\"patch_1\">\n   <path d=\"M 0 262.19625 \nL 398.50625 262.19625 \nL 398.50625 0 \nL 0 0 \nz\n\" style=\"fill:none;\"/>\n  </g>\n  <g id=\"axes_1\">\n   <g id=\"patch_2\">\n    <path d=\"M 56.50625 224.64 \nL 208.688068 224.64 \nL 208.688068 7.2 \nL 56.50625 7.2 \nz\n\" style=\"fill:#ffffff;\"/>\n   </g>\n   <g id=\"matplotlib.axis_1\">\n    <g id=\"xtick_1\">\n     <g id=\"line2d_1\">\n      <defs>\n       <path d=\"M 0 0 \nL 0 3.5 \n\" id=\"mf8e6cd862f\" style=\"stroke:#000000;stroke-width:0.8;\"/>\n      </defs>\n      <g>\n       <use style=\"stroke:#000000;stroke-width:0.8;\" x=\"72.693452\" xlink:href=\"#mf8e6cd862f\" y=\"224.64\"/>\n      </g>\n     </g>\n     <g id=\"text_1\">\n      <!-- 0 -->\n      <g transform=\"translate(69.512202 239.238437)scale(0.1 -0.1)\">\n       <defs>\n        <path d=\"M 31.78125 66.40625 \nQ 24.171875 66.40625 20.328125 58.90625 \nQ 16.5 51.421875 16.5 36.375 \nQ 16.5 21.390625 20.328125 13.890625 \nQ 24.171875 6.390625 31.78125 6.390625 \nQ 39.453125 6.390625 43.28125 13.890625 \nQ 47.125 21.390625 47.125 36.375 \nQ 47.125 51.421875 43.28125 58.90625 \nQ 39.453125 66.40625 31.78125 66.40625 \nz\nM 31.78125 74.21875 \nQ 44.046875 74.21875 50.515625 64.515625 \nQ 56.984375 54.828125 56.984375 36.375 \nQ 56.984375 17.96875 50.515625 8.265625 \nQ 44.046875 -1.421875 31.78125 -1.421875 \nQ 19.53125 -1.421875 13.0625 8.265625 \nQ 6.59375 17.96875 6.59375 36.375 \nQ 6.59375 54.828125 13.0625 64.515625 \nQ 19.53125 74.21875 31.78125 74.21875 \nz\n\" id=\"DejaVuSans-48\"/>\n       </defs>\n       <use xlink:href=\"#DejaVuSans-48\"/>\n      </g>\n     </g>\n    </g>\n    <g id=\"xtick_2\">\n     <g id=\"line2d_2\">\n      <g>\n       <use style=\"stroke:#000000;stroke-width:0.8;\" x=\"110.970581\" xlink:href=\"#mf8e6cd862f\" y=\"224.64\"/>\n      </g>\n     </g>\n     <g id=\"text_2\">\n      <!-- 100 -->\n      <g transform=\"translate(101.426831 239.238437)scale(0.1 -0.1)\">\n       <defs>\n        <path d=\"M 12.40625 8.296875 \nL 28.515625 8.296875 \nL 28.515625 63.921875 \nL 10.984375 60.40625 \nL 10.984375 69.390625 \nL 28.421875 72.90625 \nL 38.28125 72.90625 \nL 38.28125 8.296875 \nL 54.390625 8.296875 \nL 54.390625 0 \nL 12.40625 0 \nz\n\" id=\"DejaVuSans-49\"/>\n       </defs>\n       <use xlink:href=\"#DejaVuSans-49\"/>\n       <use x=\"63.623047\" xlink:href=\"#DejaVuSans-48\"/>\n       <use x=\"127.246094\" xlink:href=\"#DejaVuSans-48\"/>\n      </g>\n     </g>\n    </g>\n    <g id=\"xtick_3\">\n     <g id=\"line2d_3\">\n      <g>\n       <use style=\"stroke:#000000;stroke-width:0.8;\" x=\"149.24771\" xlink:href=\"#mf8e6cd862f\" y=\"224.64\"/>\n      </g>\n     </g>\n     <g id=\"text_3\">\n      <!-- 200 -->\n      <g transform=\"translate(139.70396 239.238437)scale(0.1 -0.1)\">\n       <defs>\n        <path d=\"M 19.1875 8.296875 \nL 53.609375 8.296875 \nL 53.609375 0 \nL 7.328125 0 \nL 7.328125 8.296875 \nQ 12.9375 14.109375 22.625 23.890625 \nQ 32.328125 33.6875 34.8125 36.53125 \nQ 39.546875 41.84375 41.421875 45.53125 \nQ 43.3125 49.21875 43.3125 52.78125 \nQ 43.3125 58.59375 39.234375 62.25 \nQ 35.15625 65.921875 28.609375 65.921875 \nQ 23.96875 65.921875 18.8125 64.3125 \nQ 13.671875 62.703125 7.8125 59.421875 \nL 7.8125 69.390625 \nQ 13.765625 71.78125 18.9375 73 \nQ 24.125 74.21875 28.421875 74.21875 \nQ 39.75 74.21875 46.484375 68.546875 \nQ 53.21875 62.890625 53.21875 53.421875 \nQ 53.21875 48.921875 51.53125 44.890625 \nQ 49.859375 40.875 45.40625 35.40625 \nQ 44.1875 33.984375 37.640625 27.21875 \nQ 31.109375 20.453125 19.1875 8.296875 \nz\n\" id=\"DejaVuSans-50\"/>\n       </defs>\n       <use xlink:href=\"#DejaVuSans-50\"/>\n       <use x=\"63.623047\" xlink:href=\"#DejaVuSans-48\"/>\n       <use x=\"127.246094\" xlink:href=\"#DejaVuSans-48\"/>\n      </g>\n     </g>\n    </g>\n    <g id=\"xtick_4\">\n     <g id=\"line2d_4\">\n      <g>\n       <use style=\"stroke:#000000;stroke-width:0.8;\" x=\"187.52484\" xlink:href=\"#mf8e6cd862f\" y=\"224.64\"/>\n      </g>\n     </g>\n     <g id=\"text_4\">\n      <!-- 300 -->\n      <g transform=\"translate(177.98109 239.238437)scale(0.1 -0.1)\">\n       <defs>\n        <path d=\"M 40.578125 39.3125 \nQ 47.65625 37.796875 51.625 33 \nQ 55.609375 28.21875 55.609375 21.1875 \nQ 55.609375 10.40625 48.1875 4.484375 \nQ 40.765625 -1.421875 27.09375 -1.421875 \nQ 22.515625 -1.421875 17.65625 -0.515625 \nQ 12.796875 0.390625 7.625 2.203125 \nL 7.625 11.71875 \nQ 11.71875 9.328125 16.59375 8.109375 \nQ 21.484375 6.890625 26.8125 6.890625 \nQ 36.078125 6.890625 40.9375 10.546875 \nQ 45.796875 14.203125 45.796875 21.1875 \nQ 45.796875 27.640625 41.28125 31.265625 \nQ 36.765625 34.90625 28.71875 34.90625 \nL 20.21875 34.90625 \nL 20.21875 43.015625 \nL 29.109375 43.015625 \nQ 36.375 43.015625 40.234375 45.921875 \nQ 44.09375 48.828125 44.09375 54.296875 \nQ 44.09375 59.90625 40.109375 62.90625 \nQ 36.140625 65.921875 28.71875 65.921875 \nQ 24.65625 65.921875 20.015625 65.03125 \nQ 15.375 64.15625 9.8125 62.3125 \nL 9.8125 71.09375 \nQ 15.4375 72.65625 20.34375 73.4375 \nQ 25.25 74.21875 29.59375 74.21875 \nQ 40.828125 74.21875 47.359375 69.109375 \nQ 53.90625 64.015625 53.90625 55.328125 \nQ 53.90625 49.265625 50.4375 45.09375 \nQ 46.96875 40.921875 40.578125 39.3125 \nz\n\" id=\"DejaVuSans-51\"/>\n       </defs>\n       <use xlink:href=\"#DejaVuSans-51\"/>\n       <use x=\"63.623047\" xlink:href=\"#DejaVuSans-48\"/>\n       <use x=\"127.246094\" xlink:href=\"#DejaVuSans-48\"/>\n      </g>\n     </g>\n    </g>\n    <g id=\"text_5\">\n     <!-- lotfrontage -->\n     <g transform=\"translate(104.982315 252.916562)scale(0.1 -0.1)\">\n      <defs>\n       <path d=\"M 9.421875 75.984375 \nL 18.40625 75.984375 \nL 18.40625 0 \nL 9.421875 0 \nz\n\" id=\"DejaVuSans-108\"/>\n       <path d=\"M 30.609375 48.390625 \nQ 23.390625 48.390625 19.1875 42.75 \nQ 14.984375 37.109375 14.984375 27.296875 \nQ 14.984375 17.484375 19.15625 11.84375 \nQ 23.34375 6.203125 30.609375 6.203125 \nQ 37.796875 6.203125 41.984375 11.859375 \nQ 46.1875 17.53125 46.1875 27.296875 \nQ 46.1875 37.015625 41.984375 42.703125 \nQ 37.796875 48.390625 30.609375 48.390625 \nz\nM 30.609375 56 \nQ 42.328125 56 49.015625 48.375 \nQ 55.71875 40.765625 55.71875 27.296875 \nQ 55.71875 13.875 49.015625 6.21875 \nQ 42.328125 -1.421875 30.609375 -1.421875 \nQ 18.84375 -1.421875 12.171875 6.21875 \nQ 5.515625 13.875 5.515625 27.296875 \nQ 5.515625 40.765625 12.171875 48.375 \nQ 18.84375 56 30.609375 56 \nz\n\" id=\"DejaVuSans-111\"/>\n       <path d=\"M 18.3125 70.21875 \nL 18.3125 54.6875 \nL 36.8125 54.6875 \nL 36.8125 47.703125 \nL 18.3125 47.703125 \nL 18.3125 18.015625 \nQ 18.3125 11.328125 20.140625 9.421875 \nQ 21.96875 7.515625 27.59375 7.515625 \nL 36.8125 7.515625 \nL 36.8125 0 \nL 27.59375 0 \nQ 17.1875 0 13.234375 3.875 \nQ 9.28125 7.765625 9.28125 18.015625 \nL 9.28125 47.703125 \nL 2.6875 47.703125 \nL 2.6875 54.6875 \nL 9.28125 54.6875 \nL 9.28125 70.21875 \nz\n\" id=\"DejaVuSans-116\"/>\n       <path d=\"M 37.109375 75.984375 \nL 37.109375 68.5 \nL 28.515625 68.5 \nQ 23.6875 68.5 21.796875 66.546875 \nQ 19.921875 64.59375 19.921875 59.515625 \nL 19.921875 54.6875 \nL 34.71875 54.6875 \nL 34.71875 47.703125 \nL 19.921875 47.703125 \nL 19.921875 0 \nL 10.890625 0 \nL 10.890625 47.703125 \nL 2.296875 47.703125 \nL 2.296875 54.6875 \nL 10.890625 54.6875 \nL 10.890625 58.5 \nQ 10.890625 67.625 15.140625 71.796875 \nQ 19.390625 75.984375 28.609375 75.984375 \nz\n\" id=\"DejaVuSans-102\"/>\n       <path d=\"M 41.109375 46.296875 \nQ 39.59375 47.171875 37.8125 47.578125 \nQ 36.03125 48 33.890625 48 \nQ 26.265625 48 22.1875 43.046875 \nQ 18.109375 38.09375 18.109375 28.8125 \nL 18.109375 0 \nL 9.078125 0 \nL 9.078125 54.6875 \nL 18.109375 54.6875 \nL 18.109375 46.1875 \nQ 20.953125 51.171875 25.484375 53.578125 \nQ 30.03125 56 36.53125 56 \nQ 37.453125 56 38.578125 55.875 \nQ 39.703125 55.765625 41.0625 55.515625 \nz\n\" id=\"DejaVuSans-114\"/>\n       <path d=\"M 54.890625 33.015625 \nL 54.890625 0 \nL 45.90625 0 \nL 45.90625 32.71875 \nQ 45.90625 40.484375 42.875 44.328125 \nQ 39.84375 48.1875 33.796875 48.1875 \nQ 26.515625 48.1875 22.3125 43.546875 \nQ 18.109375 38.921875 18.109375 30.90625 \nL 18.109375 0 \nL 9.078125 0 \nL 9.078125 54.6875 \nL 18.109375 54.6875 \nL 18.109375 46.1875 \nQ 21.34375 51.125 25.703125 53.5625 \nQ 30.078125 56 35.796875 56 \nQ 45.21875 56 50.046875 50.171875 \nQ 54.890625 44.34375 54.890625 33.015625 \nz\n\" id=\"DejaVuSans-110\"/>\n       <path d=\"M 34.28125 27.484375 \nQ 23.390625 27.484375 19.1875 25 \nQ 14.984375 22.515625 14.984375 16.5 \nQ 14.984375 11.71875 18.140625 8.90625 \nQ 21.296875 6.109375 26.703125 6.109375 \nQ 34.1875 6.109375 38.703125 11.40625 \nQ 43.21875 16.703125 43.21875 25.484375 \nL 43.21875 27.484375 \nz\nM 52.203125 31.203125 \nL 52.203125 0 \nL 43.21875 0 \nL 43.21875 8.296875 \nQ 40.140625 3.328125 35.546875 0.953125 \nQ 30.953125 -1.421875 24.3125 -1.421875 \nQ 15.921875 -1.421875 10.953125 3.296875 \nQ 6 8.015625 6 15.921875 \nQ 6 25.140625 12.171875 29.828125 \nQ 18.359375 34.515625 30.609375 34.515625 \nL 43.21875 34.515625 \nL 43.21875 35.40625 \nQ 43.21875 41.609375 39.140625 45 \nQ 35.0625 48.390625 27.6875 48.390625 \nQ 23 48.390625 18.546875 47.265625 \nQ 14.109375 46.140625 10.015625 43.890625 \nL 10.015625 52.203125 \nQ 14.9375 54.109375 19.578125 55.046875 \nQ 24.21875 56 28.609375 56 \nQ 40.484375 56 46.34375 49.84375 \nQ 52.203125 43.703125 52.203125 31.203125 \nz\n\" id=\"DejaVuSans-97\"/>\n       <path d=\"M 45.40625 27.984375 \nQ 45.40625 37.75 41.375 43.109375 \nQ 37.359375 48.484375 30.078125 48.484375 \nQ 22.859375 48.484375 18.828125 43.109375 \nQ 14.796875 37.75 14.796875 27.984375 \nQ 14.796875 18.265625 18.828125 12.890625 \nQ 22.859375 7.515625 30.078125 7.515625 \nQ 37.359375 7.515625 41.375 12.890625 \nQ 45.40625 18.265625 45.40625 27.984375 \nz\nM 54.390625 6.78125 \nQ 54.390625 -7.171875 48.1875 -13.984375 \nQ 42 -20.796875 29.203125 -20.796875 \nQ 24.46875 -20.796875 20.265625 -20.09375 \nQ 16.0625 -19.390625 12.109375 -17.921875 \nL 12.109375 -9.1875 \nQ 16.0625 -11.328125 19.921875 -12.34375 \nQ 23.78125 -13.375 27.78125 -13.375 \nQ 36.625 -13.375 41.015625 -8.765625 \nQ 45.40625 -4.15625 45.40625 5.171875 \nL 45.40625 9.625 \nQ 42.625 4.78125 38.28125 2.390625 \nQ 33.9375 0 27.875 0 \nQ 17.828125 0 11.671875 7.65625 \nQ 5.515625 15.328125 5.515625 27.984375 \nQ 5.515625 40.671875 11.671875 48.328125 \nQ 17.828125 56 27.875 56 \nQ 33.9375 56 38.28125 53.609375 \nQ 42.625 51.21875 45.40625 46.390625 \nL 45.40625 54.6875 \nL 54.390625 54.6875 \nz\n\" id=\"DejaVuSans-103\"/>\n       <path d=\"M 56.203125 29.59375 \nL 56.203125 25.203125 \nL 14.890625 25.203125 \nQ 15.484375 15.921875 20.484375 11.0625 \nQ 25.484375 6.203125 34.421875 6.203125 \nQ 39.59375 6.203125 44.453125 7.46875 \nQ 49.3125 8.734375 54.109375 11.28125 \nL 54.109375 2.78125 \nQ 49.265625 0.734375 44.1875 -0.34375 \nQ 39.109375 -1.421875 33.890625 -1.421875 \nQ 20.796875 -1.421875 13.15625 6.1875 \nQ 5.515625 13.8125 5.515625 26.8125 \nQ 5.515625 40.234375 12.765625 48.109375 \nQ 20.015625 56 32.328125 56 \nQ 43.359375 56 49.78125 48.890625 \nQ 56.203125 41.796875 56.203125 29.59375 \nz\nM 47.21875 32.234375 \nQ 47.125 39.59375 43.09375 43.984375 \nQ 39.0625 48.390625 32.421875 48.390625 \nQ 24.90625 48.390625 20.390625 44.140625 \nQ 15.875 39.890625 15.1875 32.171875 \nz\n\" id=\"DejaVuSans-101\"/>\n      </defs>\n      <use xlink:href=\"#DejaVuSans-108\"/>\n      <use x=\"27.783203\" xlink:href=\"#DejaVuSans-111\"/>\n      <use x=\"88.964844\" xlink:href=\"#DejaVuSans-116\"/>\n      <use x=\"128.173828\" xlink:href=\"#DejaVuSans-102\"/>\n      <use x=\"163.378906\" xlink:href=\"#DejaVuSans-114\"/>\n      <use x=\"202.242188\" xlink:href=\"#DejaVuSans-111\"/>\n      <use x=\"263.423828\" xlink:href=\"#DejaVuSans-110\"/>\n      <use x=\"326.802734\" xlink:href=\"#DejaVuSans-116\"/>\n      <use x=\"366.011719\" xlink:href=\"#DejaVuSans-97\"/>\n      <use x=\"427.291016\" xlink:href=\"#DejaVuSans-103\"/>\n      <use x=\"490.767578\" xlink:href=\"#DejaVuSans-101\"/>\n     </g>\n    </g>\n   </g>\n   <g id=\"matplotlib.axis_2\">\n    <g id=\"ytick_1\">\n     <g id=\"line2d_5\">\n      <defs>\n       <path d=\"M 0 0 \nL -3.5 0 \n\" id=\"m83fa7cdb05\" style=\"stroke:#000000;stroke-width:0.8;\"/>\n      </defs>\n      <g>\n       <use style=\"stroke:#000000;stroke-width:0.8;\" x=\"56.50625\" xlink:href=\"#m83fa7cdb05\" y=\"224.64\"/>\n      </g>\n     </g>\n     <g id=\"text_6\">\n      <!-- 0.000 -->\n      <g transform=\"translate(20.878125 228.439219)scale(0.1 -0.1)\">\n       <defs>\n        <path d=\"M 10.6875 12.40625 \nL 21 12.40625 \nL 21 0 \nL 10.6875 0 \nz\n\" id=\"DejaVuSans-46\"/>\n       </defs>\n       <use xlink:href=\"#DejaVuSans-48\"/>\n       <use x=\"63.623047\" xlink:href=\"#DejaVuSans-46\"/>\n       <use x=\"95.410156\" xlink:href=\"#DejaVuSans-48\"/>\n       <use x=\"159.033203\" xlink:href=\"#DejaVuSans-48\"/>\n       <use x=\"222.65625\" xlink:href=\"#DejaVuSans-48\"/>\n      </g>\n     </g>\n    </g>\n    <g id=\"ytick_2\">\n     <g id=\"line2d_6\">\n      <g>\n       <use style=\"stroke:#000000;stroke-width:0.8;\" x=\"56.50625\" xlink:href=\"#m83fa7cdb05\" y=\"199.457154\"/>\n      </g>\n     </g>\n     <g id=\"text_7\">\n      <!-- 0.002 -->\n      <g transform=\"translate(20.878125 203.256373)scale(0.1 -0.1)\">\n       <use xlink:href=\"#DejaVuSans-48\"/>\n       <use x=\"63.623047\" xlink:href=\"#DejaVuSans-46\"/>\n       <use x=\"95.410156\" xlink:href=\"#DejaVuSans-48\"/>\n       <use x=\"159.033203\" xlink:href=\"#DejaVuSans-48\"/>\n       <use x=\"222.65625\" xlink:href=\"#DejaVuSans-50\"/>\n      </g>\n     </g>\n    </g>\n    <g id=\"ytick_3\">\n     <g id=\"line2d_7\">\n      <g>\n       <use style=\"stroke:#000000;stroke-width:0.8;\" x=\"56.50625\" xlink:href=\"#m83fa7cdb05\" y=\"174.274309\"/>\n      </g>\n     </g>\n     <g id=\"text_8\">\n      <!-- 0.004 -->\n      <g transform=\"translate(20.878125 178.073527)scale(0.1 -0.1)\">\n       <defs>\n        <path d=\"M 37.796875 64.3125 \nL 12.890625 25.390625 \nL 37.796875 25.390625 \nz\nM 35.203125 72.90625 \nL 47.609375 72.90625 \nL 47.609375 25.390625 \nL 58.015625 25.390625 \nL 58.015625 17.1875 \nL 47.609375 17.1875 \nL 47.609375 0 \nL 37.796875 0 \nL 37.796875 17.1875 \nL 4.890625 17.1875 \nL 4.890625 26.703125 \nz\n\" id=\"DejaVuSans-52\"/>\n       </defs>\n       <use xlink:href=\"#DejaVuSans-48\"/>\n       <use x=\"63.623047\" xlink:href=\"#DejaVuSans-46\"/>\n       <use x=\"95.410156\" xlink:href=\"#DejaVuSans-48\"/>\n       <use x=\"159.033203\" xlink:href=\"#DejaVuSans-48\"/>\n       <use x=\"222.65625\" xlink:href=\"#DejaVuSans-52\"/>\n      </g>\n     </g>\n    </g>\n    <g id=\"ytick_4\">\n     <g id=\"line2d_8\">\n      <g>\n       <use style=\"stroke:#000000;stroke-width:0.8;\" x=\"56.50625\" xlink:href=\"#m83fa7cdb05\" y=\"149.091463\"/>\n      </g>\n     </g>\n     <g id=\"text_9\">\n      <!-- 0.006 -->\n      <g transform=\"translate(20.878125 152.890682)scale(0.1 -0.1)\">\n       <defs>\n        <path d=\"M 33.015625 40.375 \nQ 26.375 40.375 22.484375 35.828125 \nQ 18.609375 31.296875 18.609375 23.390625 \nQ 18.609375 15.53125 22.484375 10.953125 \nQ 26.375 6.390625 33.015625 6.390625 \nQ 39.65625 6.390625 43.53125 10.953125 \nQ 47.40625 15.53125 47.40625 23.390625 \nQ 47.40625 31.296875 43.53125 35.828125 \nQ 39.65625 40.375 33.015625 40.375 \nz\nM 52.59375 71.296875 \nL 52.59375 62.3125 \nQ 48.875 64.0625 45.09375 64.984375 \nQ 41.3125 65.921875 37.59375 65.921875 \nQ 27.828125 65.921875 22.671875 59.328125 \nQ 17.53125 52.734375 16.796875 39.40625 \nQ 19.671875 43.65625 24.015625 45.921875 \nQ 28.375 48.1875 33.59375 48.1875 \nQ 44.578125 48.1875 50.953125 41.515625 \nQ 57.328125 34.859375 57.328125 23.390625 \nQ 57.328125 12.15625 50.6875 5.359375 \nQ 44.046875 -1.421875 33.015625 -1.421875 \nQ 20.359375 -1.421875 13.671875 8.265625 \nQ 6.984375 17.96875 6.984375 36.375 \nQ 6.984375 53.65625 15.1875 63.9375 \nQ 23.390625 74.21875 37.203125 74.21875 \nQ 40.921875 74.21875 44.703125 73.484375 \nQ 48.484375 72.75 52.59375 71.296875 \nz\n\" id=\"DejaVuSans-54\"/>\n       </defs>\n       <use xlink:href=\"#DejaVuSans-48\"/>\n       <use x=\"63.623047\" xlink:href=\"#DejaVuSans-46\"/>\n       <use x=\"95.410156\" xlink:href=\"#DejaVuSans-48\"/>\n       <use x=\"159.033203\" xlink:href=\"#DejaVuSans-48\"/>\n       <use x=\"222.65625\" xlink:href=\"#DejaVuSans-54\"/>\n      </g>\n     </g>\n    </g>\n    <g id=\"ytick_5\">\n     <g id=\"line2d_9\">\n      <g>\n       <use style=\"stroke:#000000;stroke-width:0.8;\" x=\"56.50625\" xlink:href=\"#m83fa7cdb05\" y=\"123.908617\"/>\n      </g>\n     </g>\n     <g id=\"text_10\">\n      <!-- 0.008 -->\n      <g transform=\"translate(20.878125 127.707836)scale(0.1 -0.1)\">\n       <defs>\n        <path d=\"M 31.78125 34.625 \nQ 24.75 34.625 20.71875 30.859375 \nQ 16.703125 27.09375 16.703125 20.515625 \nQ 16.703125 13.921875 20.71875 10.15625 \nQ 24.75 6.390625 31.78125 6.390625 \nQ 38.8125 6.390625 42.859375 10.171875 \nQ 46.921875 13.96875 46.921875 20.515625 \nQ 46.921875 27.09375 42.890625 30.859375 \nQ 38.875 34.625 31.78125 34.625 \nz\nM 21.921875 38.8125 \nQ 15.578125 40.375 12.03125 44.71875 \nQ 8.5 49.078125 8.5 55.328125 \nQ 8.5 64.0625 14.71875 69.140625 \nQ 20.953125 74.21875 31.78125 74.21875 \nQ 42.671875 74.21875 48.875 69.140625 \nQ 55.078125 64.0625 55.078125 55.328125 \nQ 55.078125 49.078125 51.53125 44.71875 \nQ 48 40.375 41.703125 38.8125 \nQ 48.828125 37.15625 52.796875 32.3125 \nQ 56.78125 27.484375 56.78125 20.515625 \nQ 56.78125 9.90625 50.3125 4.234375 \nQ 43.84375 -1.421875 31.78125 -1.421875 \nQ 19.734375 -1.421875 13.25 4.234375 \nQ 6.78125 9.90625 6.78125 20.515625 \nQ 6.78125 27.484375 10.78125 32.3125 \nQ 14.796875 37.15625 21.921875 38.8125 \nz\nM 18.3125 54.390625 \nQ 18.3125 48.734375 21.84375 45.5625 \nQ 25.390625 42.390625 31.78125 42.390625 \nQ 38.140625 42.390625 41.71875 45.5625 \nQ 45.3125 48.734375 45.3125 54.390625 \nQ 45.3125 60.0625 41.71875 63.234375 \nQ 38.140625 66.40625 31.78125 66.40625 \nQ 25.390625 66.40625 21.84375 63.234375 \nQ 18.3125 60.0625 18.3125 54.390625 \nz\n\" id=\"DejaVuSans-56\"/>\n       </defs>\n       <use xlink:href=\"#DejaVuSans-48\"/>\n       <use x=\"63.623047\" xlink:href=\"#DejaVuSans-46\"/>\n       <use x=\"95.410156\" xlink:href=\"#DejaVuSans-48\"/>\n       <use x=\"159.033203\" xlink:href=\"#DejaVuSans-48\"/>\n       <use x=\"222.65625\" xlink:href=\"#DejaVuSans-56\"/>\n      </g>\n     </g>\n    </g>\n    <g id=\"ytick_6\">\n     <g id=\"line2d_10\">\n      <g>\n       <use style=\"stroke:#000000;stroke-width:0.8;\" x=\"56.50625\" xlink:href=\"#m83fa7cdb05\" y=\"98.725771\"/>\n      </g>\n     </g>\n     <g id=\"text_11\">\n      <!-- 0.010 -->\n      <g transform=\"translate(20.878125 102.52499)scale(0.1 -0.1)\">\n       <use xlink:href=\"#DejaVuSans-48\"/>\n       <use x=\"63.623047\" xlink:href=\"#DejaVuSans-46\"/>\n       <use x=\"95.410156\" xlink:href=\"#DejaVuSans-48\"/>\n       <use x=\"159.033203\" xlink:href=\"#DejaVuSans-49\"/>\n       <use x=\"222.65625\" xlink:href=\"#DejaVuSans-48\"/>\n      </g>\n     </g>\n    </g>\n    <g id=\"ytick_7\">\n     <g id=\"line2d_11\">\n      <g>\n       <use style=\"stroke:#000000;stroke-width:0.8;\" x=\"56.50625\" xlink:href=\"#m83fa7cdb05\" y=\"73.542926\"/>\n      </g>\n     </g>\n     <g id=\"text_12\">\n      <!-- 0.012 -->\n      <g transform=\"translate(20.878125 77.342144)scale(0.1 -0.1)\">\n       <use xlink:href=\"#DejaVuSans-48\"/>\n       <use x=\"63.623047\" xlink:href=\"#DejaVuSans-46\"/>\n       <use x=\"95.410156\" xlink:href=\"#DejaVuSans-48\"/>\n       <use x=\"159.033203\" xlink:href=\"#DejaVuSans-49\"/>\n       <use x=\"222.65625\" xlink:href=\"#DejaVuSans-50\"/>\n      </g>\n     </g>\n    </g>\n    <g id=\"ytick_8\">\n     <g id=\"line2d_12\">\n      <g>\n       <use style=\"stroke:#000000;stroke-width:0.8;\" x=\"56.50625\" xlink:href=\"#m83fa7cdb05\" y=\"48.36008\"/>\n      </g>\n     </g>\n     <g id=\"text_13\">\n      <!-- 0.014 -->\n      <g transform=\"translate(20.878125 52.159299)scale(0.1 -0.1)\">\n       <use xlink:href=\"#DejaVuSans-48\"/>\n       <use x=\"63.623047\" xlink:href=\"#DejaVuSans-46\"/>\n       <use x=\"95.410156\" xlink:href=\"#DejaVuSans-48\"/>\n       <use x=\"159.033203\" xlink:href=\"#DejaVuSans-49\"/>\n       <use x=\"222.65625\" xlink:href=\"#DejaVuSans-52\"/>\n      </g>\n     </g>\n    </g>\n    <g id=\"ytick_9\">\n     <g id=\"line2d_13\">\n      <g>\n       <use style=\"stroke:#000000;stroke-width:0.8;\" x=\"56.50625\" xlink:href=\"#m83fa7cdb05\" y=\"23.177234\"/>\n      </g>\n     </g>\n     <g id=\"text_14\">\n      <!-- 0.016 -->\n      <g transform=\"translate(20.878125 26.976453)scale(0.1 -0.1)\">\n       <use xlink:href=\"#DejaVuSans-48\"/>\n       <use x=\"63.623047\" xlink:href=\"#DejaVuSans-46\"/>\n       <use x=\"95.410156\" xlink:href=\"#DejaVuSans-48\"/>\n       <use x=\"159.033203\" xlink:href=\"#DejaVuSans-49\"/>\n       <use x=\"222.65625\" xlink:href=\"#DejaVuSans-54\"/>\n      </g>\n     </g>\n    </g>\n    <g id=\"text_15\">\n     <!-- Density -->\n     <g transform=\"translate(14.798437 134.928594)rotate(-90)scale(0.1 -0.1)\">\n      <defs>\n       <path d=\"M 19.671875 64.796875 \nL 19.671875 8.109375 \nL 31.59375 8.109375 \nQ 46.6875 8.109375 53.6875 14.9375 \nQ 60.6875 21.78125 60.6875 36.53125 \nQ 60.6875 51.171875 53.6875 57.984375 \nQ 46.6875 64.796875 31.59375 64.796875 \nz\nM 9.8125 72.90625 \nL 30.078125 72.90625 \nQ 51.265625 72.90625 61.171875 64.09375 \nQ 71.09375 55.28125 71.09375 36.53125 \nQ 71.09375 17.671875 61.125 8.828125 \nQ 51.171875 0 30.078125 0 \nL 9.8125 0 \nz\n\" id=\"DejaVuSans-68\"/>\n       <path d=\"M 44.28125 53.078125 \nL 44.28125 44.578125 \nQ 40.484375 46.53125 36.375 47.5 \nQ 32.28125 48.484375 27.875 48.484375 \nQ 21.1875 48.484375 17.84375 46.4375 \nQ 14.5 44.390625 14.5 40.28125 \nQ 14.5 37.15625 16.890625 35.375 \nQ 19.28125 33.59375 26.515625 31.984375 \nL 29.59375 31.296875 \nQ 39.15625 29.25 43.1875 25.515625 \nQ 47.21875 21.78125 47.21875 15.09375 \nQ 47.21875 7.46875 41.1875 3.015625 \nQ 35.15625 -1.421875 24.609375 -1.421875 \nQ 20.21875 -1.421875 15.453125 -0.5625 \nQ 10.6875 0.296875 5.421875 2 \nL 5.421875 11.28125 \nQ 10.40625 8.6875 15.234375 7.390625 \nQ 20.0625 6.109375 24.8125 6.109375 \nQ 31.15625 6.109375 34.5625 8.28125 \nQ 37.984375 10.453125 37.984375 14.40625 \nQ 37.984375 18.0625 35.515625 20.015625 \nQ 33.0625 21.96875 24.703125 23.78125 \nL 21.578125 24.515625 \nQ 13.234375 26.265625 9.515625 29.90625 \nQ 5.8125 33.546875 5.8125 39.890625 \nQ 5.8125 47.609375 11.28125 51.796875 \nQ 16.75 56 26.8125 56 \nQ 31.78125 56 36.171875 55.265625 \nQ 40.578125 54.546875 44.28125 53.078125 \nz\n\" id=\"DejaVuSans-115\"/>\n       <path d=\"M 9.421875 54.6875 \nL 18.40625 54.6875 \nL 18.40625 0 \nL 9.421875 0 \nz\nM 9.421875 75.984375 \nL 18.40625 75.984375 \nL 18.40625 64.59375 \nL 9.421875 64.59375 \nz\n\" id=\"DejaVuSans-105\"/>\n       <path d=\"M 32.171875 -5.078125 \nQ 28.375 -14.84375 24.75 -17.8125 \nQ 21.140625 -20.796875 15.09375 -20.796875 \nL 7.90625 -20.796875 \nL 7.90625 -13.28125 \nL 13.1875 -13.28125 \nQ 16.890625 -13.28125 18.9375 -11.515625 \nQ 21 -9.765625 23.484375 -3.21875 \nL 25.09375 0.875 \nL 2.984375 54.6875 \nL 12.5 54.6875 \nL 29.59375 11.921875 \nL 46.6875 54.6875 \nL 56.203125 54.6875 \nz\n\" id=\"DejaVuSans-121\"/>\n      </defs>\n      <use xlink:href=\"#DejaVuSans-68\"/>\n      <use x=\"77.001953\" xlink:href=\"#DejaVuSans-101\"/>\n      <use x=\"138.525391\" xlink:href=\"#DejaVuSans-110\"/>\n      <use x=\"201.904297\" xlink:href=\"#DejaVuSans-115\"/>\n      <use x=\"254.003906\" xlink:href=\"#DejaVuSans-105\"/>\n      <use x=\"281.787109\" xlink:href=\"#DejaVuSans-116\"/>\n      <use x=\"320.996094\" xlink:href=\"#DejaVuSans-121\"/>\n     </g>\n    </g>\n   </g>\n   <g id=\"line2d_14\">\n    <path clip-path=\"url(#p93fd3d562a)\" d=\"M 63.423605 223.413704 \nL 64.118817 222.291768 \nL 64.814029 220.36533 \nL 65.50924 217.242577 \nL 66.204452 212.470434 \nL 66.899663 205.60786 \nL 67.594875 196.344338 \nL 68.290087 184.647799 \nL 71.070933 128.376132 \nL 71.766145 118.927949 \nL 72.461356 114.209506 \nL 73.156568 114.840992 \nL 73.851779 120.62464 \nL 74.546991 130.580509 \nL 77.327837 180.120485 \nL 78.023049 188.274829 \nL 78.71826 193.694986 \nL 79.413472 196.67313 \nL 80.108684 197.735623 \nL 80.803895 197.464042 \nL 81.499107 196.358434 \nL 82.194318 194.761897 \nL 83.584742 190.630543 \nL 84.279953 188.044556 \nL 84.975165 184.958524 \nL 85.670376 181.224553 \nL 86.365588 176.692172 \nL 87.0608 171.214914 \nL 87.756011 164.65481 \nL 88.451223 156.891699 \nL 89.841646 137.470726 \nL 91.232069 113.09341 \nL 94.708127 46.27278 \nL 95.403339 36.026741 \nL 96.09855 27.938389 \nL 96.793762 22.195659 \nL 97.488974 18.789085 \nL 98.184185 17.554286 \nL 98.879397 18.247119 \nL 99.574608 20.625136 \nL 100.26982 24.507811 \nL 100.965032 29.797795 \nL 101.660243 36.461134 \nL 102.355455 44.479059 \nL 103.745878 64.258168 \nL 105.831513 99.771305 \nL 107.917147 134.100242 \nL 109.307571 152.963432 \nL 110.697994 168.139216 \nL 112.088417 180.192354 \nL 113.47884 189.794505 \nL 114.869263 197.367497 \nL 116.259687 203.149682 \nL 117.65011 207.434606 \nL 119.040533 210.649967 \nL 120.430956 213.204105 \nL 121.821379 215.325734 \nL 123.211803 217.079179 \nL 124.602226 218.479292 \nL 125.992649 219.558443 \nL 127.383072 220.371445 \nL 129.468707 221.263211 \nL 132.944765 222.449067 \nL 135.0304 222.890346 \nL 137.116034 223.006623 \nL 139.896881 223.132749 \nL 141.982516 223.500262 \nL 146.153785 224.361525 \nL 148.934632 224.588935 \nL 153.801113 224.639538 \nL 185.780846 224.559907 \nL 188.561693 224.261783 \nL 192.03775 223.797107 \nL 193.428174 223.825121 \nL 196.20902 224.225121 \nL 198.989866 224.546028 \nL 201.770713 224.630531 \nL 201.770713 224.630531 \n\" style=\"fill:none;stroke:#1f77b4;stroke-linecap:square;stroke-width:1.5;\"/>\n   </g>\n   <g id=\"patch_3\">\n    <path d=\"M 56.50625 224.64 \nL 56.50625 7.2 \n\" style=\"fill:none;stroke:#000000;stroke-linecap:square;stroke-linejoin:miter;stroke-width:0.8;\"/>\n   </g>\n   <g id=\"patch_4\">\n    <path d=\"M 208.688068 224.64 \nL 208.688068 7.2 \n\" style=\"fill:none;stroke:#000000;stroke-linecap:square;stroke-linejoin:miter;stroke-width:0.8;\"/>\n   </g>\n   <g id=\"patch_5\">\n    <path d=\"M 56.50625 224.64 \nL 208.688068 224.64 \n\" style=\"fill:none;stroke:#000000;stroke-linecap:square;stroke-linejoin:miter;stroke-width:0.8;\"/>\n   </g>\n   <g id=\"patch_6\">\n    <path d=\"M 56.50625 7.2 \nL 208.688068 7.2 \n\" style=\"fill:none;stroke:#000000;stroke-linecap:square;stroke-linejoin:miter;stroke-width:0.8;\"/>\n   </g>\n  </g>\n  <g id=\"axes_2\">\n   <g id=\"patch_7\">\n    <path d=\"M 239.124432 224.64 \nL 391.30625 224.64 \nL 391.30625 7.2 \nL 239.124432 7.2 \nz\n\" style=\"fill:#ffffff;\"/>\n   </g>\n   <g id=\"matplotlib.axis_3\">\n    <g id=\"xtick_5\">\n     <g id=\"line2d_15\">\n      <g>\n       <use style=\"stroke:#000000;stroke-width:0.8;\" x=\"270.120196\" xlink:href=\"#mf8e6cd862f\" y=\"224.64\"/>\n      </g>\n     </g>\n     <g id=\"text_16\">\n      <!-- 0.0 -->\n      <g transform=\"translate(262.168633 239.238437)scale(0.1 -0.1)\">\n       <use xlink:href=\"#DejaVuSans-48\"/>\n       <use x=\"63.623047\" xlink:href=\"#DejaVuSans-46\"/>\n       <use x=\"95.410156\" xlink:href=\"#DejaVuSans-48\"/>\n      </g>\n     </g>\n    </g>\n    <g id=\"xtick_6\">\n     <g id=\"line2d_16\">\n      <g>\n       <use style=\"stroke:#000000;stroke-width:0.8;\" x=\"315.215341\" xlink:href=\"#mf8e6cd862f\" y=\"224.64\"/>\n      </g>\n     </g>\n     <g id=\"text_17\">\n      <!-- 0.5 -->\n      <g transform=\"translate(307.263778 239.238437)scale(0.1 -0.1)\">\n       <defs>\n        <path d=\"M 10.796875 72.90625 \nL 49.515625 72.90625 \nL 49.515625 64.59375 \nL 19.828125 64.59375 \nL 19.828125 46.734375 \nQ 21.96875 47.46875 24.109375 47.828125 \nQ 26.265625 48.1875 28.421875 48.1875 \nQ 40.625 48.1875 47.75 41.5 \nQ 54.890625 34.8125 54.890625 23.390625 \nQ 54.890625 11.625 47.5625 5.09375 \nQ 40.234375 -1.421875 26.90625 -1.421875 \nQ 22.3125 -1.421875 17.546875 -0.640625 \nQ 12.796875 0.140625 7.71875 1.703125 \nL 7.71875 11.625 \nQ 12.109375 9.234375 16.796875 8.0625 \nQ 21.484375 6.890625 26.703125 6.890625 \nQ 35.15625 6.890625 40.078125 11.328125 \nQ 45.015625 15.765625 45.015625 23.390625 \nQ 45.015625 31 40.078125 35.4375 \nQ 35.15625 39.890625 26.703125 39.890625 \nQ 22.75 39.890625 18.8125 39.015625 \nQ 14.890625 38.140625 10.796875 36.28125 \nz\n\" id=\"DejaVuSans-53\"/>\n       </defs>\n       <use xlink:href=\"#DejaVuSans-48\"/>\n       <use x=\"63.623047\" xlink:href=\"#DejaVuSans-46\"/>\n       <use x=\"95.410156\" xlink:href=\"#DejaVuSans-53\"/>\n      </g>\n     </g>\n    </g>\n    <g id=\"xtick_7\">\n     <g id=\"line2d_17\">\n      <g>\n       <use style=\"stroke:#000000;stroke-width:0.8;\" x=\"360.310486\" xlink:href=\"#mf8e6cd862f\" y=\"224.64\"/>\n      </g>\n     </g>\n     <g id=\"text_18\">\n      <!-- 1.0 -->\n      <g transform=\"translate(352.358924 239.238437)scale(0.1 -0.1)\">\n       <use xlink:href=\"#DejaVuSans-49\"/>\n       <use x=\"63.623047\" xlink:href=\"#DejaVuSans-46\"/>\n       <use x=\"95.410156\" xlink:href=\"#DejaVuSans-48\"/>\n      </g>\n     </g>\n    </g>\n   </g>\n   <g id=\"matplotlib.axis_4\">\n    <g id=\"ytick_10\">\n     <g id=\"line2d_18\">\n      <g>\n       <use style=\"stroke:#000000;stroke-width:0.8;\" x=\"239.124432\" xlink:href=\"#m83fa7cdb05\" y=\"224.64\"/>\n      </g>\n     </g>\n     <g id=\"text_19\">\n      <!-- 0.0 -->\n      <g transform=\"translate(216.221307 228.439219)scale(0.1 -0.1)\">\n       <use xlink:href=\"#DejaVuSans-48\"/>\n       <use x=\"63.623047\" xlink:href=\"#DejaVuSans-46\"/>\n       <use x=\"95.410156\" xlink:href=\"#DejaVuSans-48\"/>\n      </g>\n     </g>\n    </g>\n    <g id=\"ytick_11\">\n     <g id=\"line2d_19\">\n      <g>\n       <use style=\"stroke:#000000;stroke-width:0.8;\" x=\"239.124432\" xlink:href=\"#m83fa7cdb05\" y=\"196.547904\"/>\n      </g>\n     </g>\n     <g id=\"text_20\">\n      <!-- 0.5 -->\n      <g transform=\"translate(216.221307 200.347123)scale(0.1 -0.1)\">\n       <use xlink:href=\"#DejaVuSans-48\"/>\n       <use x=\"63.623047\" xlink:href=\"#DejaVuSans-46\"/>\n       <use x=\"95.410156\" xlink:href=\"#DejaVuSans-53\"/>\n      </g>\n     </g>\n    </g>\n    <g id=\"ytick_12\">\n     <g id=\"line2d_20\">\n      <g>\n       <use style=\"stroke:#000000;stroke-width:0.8;\" x=\"239.124432\" xlink:href=\"#m83fa7cdb05\" y=\"168.455808\"/>\n      </g>\n     </g>\n     <g id=\"text_21\">\n      <!-- 1.0 -->\n      <g transform=\"translate(216.221307 172.255027)scale(0.1 -0.1)\">\n       <use xlink:href=\"#DejaVuSans-49\"/>\n       <use x=\"63.623047\" xlink:href=\"#DejaVuSans-46\"/>\n       <use x=\"95.410156\" xlink:href=\"#DejaVuSans-48\"/>\n      </g>\n     </g>\n    </g>\n    <g id=\"ytick_13\">\n     <g id=\"line2d_21\">\n      <g>\n       <use style=\"stroke:#000000;stroke-width:0.8;\" x=\"239.124432\" xlink:href=\"#m83fa7cdb05\" y=\"140.363713\"/>\n      </g>\n     </g>\n     <g id=\"text_22\">\n      <!-- 1.5 -->\n      <g transform=\"translate(216.221307 144.162931)scale(0.1 -0.1)\">\n       <use xlink:href=\"#DejaVuSans-49\"/>\n       <use x=\"63.623047\" xlink:href=\"#DejaVuSans-46\"/>\n       <use x=\"95.410156\" xlink:href=\"#DejaVuSans-53\"/>\n      </g>\n     </g>\n    </g>\n    <g id=\"ytick_14\">\n     <g id=\"line2d_22\">\n      <g>\n       <use style=\"stroke:#000000;stroke-width:0.8;\" x=\"239.124432\" xlink:href=\"#m83fa7cdb05\" y=\"112.271617\"/>\n      </g>\n     </g>\n     <g id=\"text_23\">\n      <!-- 2.0 -->\n      <g transform=\"translate(216.221307 116.070836)scale(0.1 -0.1)\">\n       <use xlink:href=\"#DejaVuSans-50\"/>\n       <use x=\"63.623047\" xlink:href=\"#DejaVuSans-46\"/>\n       <use x=\"95.410156\" xlink:href=\"#DejaVuSans-48\"/>\n      </g>\n     </g>\n    </g>\n    <g id=\"ytick_15\">\n     <g id=\"line2d_23\">\n      <g>\n       <use style=\"stroke:#000000;stroke-width:0.8;\" x=\"239.124432\" xlink:href=\"#m83fa7cdb05\" y=\"84.179521\"/>\n      </g>\n     </g>\n     <g id=\"text_24\">\n      <!-- 2.5 -->\n      <g transform=\"translate(216.221307 87.97874)scale(0.1 -0.1)\">\n       <use xlink:href=\"#DejaVuSans-50\"/>\n       <use x=\"63.623047\" xlink:href=\"#DejaVuSans-46\"/>\n       <use x=\"95.410156\" xlink:href=\"#DejaVuSans-53\"/>\n      </g>\n     </g>\n    </g>\n    <g id=\"ytick_16\">\n     <g id=\"line2d_24\">\n      <g>\n       <use style=\"stroke:#000000;stroke-width:0.8;\" x=\"239.124432\" xlink:href=\"#m83fa7cdb05\" y=\"56.087425\"/>\n      </g>\n     </g>\n     <g id=\"text_25\">\n      <!-- 3.0 -->\n      <g transform=\"translate(216.221307 59.886644)scale(0.1 -0.1)\">\n       <use xlink:href=\"#DejaVuSans-51\"/>\n       <use x=\"63.623047\" xlink:href=\"#DejaVuSans-46\"/>\n       <use x=\"95.410156\" xlink:href=\"#DejaVuSans-48\"/>\n      </g>\n     </g>\n    </g>\n    <g id=\"ytick_17\">\n     <g id=\"line2d_25\">\n      <g>\n       <use style=\"stroke:#000000;stroke-width:0.8;\" x=\"239.124432\" xlink:href=\"#m83fa7cdb05\" y=\"27.99533\"/>\n      </g>\n     </g>\n     <g id=\"text_26\">\n      <!-- 3.5 -->\n      <g transform=\"translate(216.221307 31.794548)scale(0.1 -0.1)\">\n       <use xlink:href=\"#DejaVuSans-51\"/>\n       <use x=\"63.623047\" xlink:href=\"#DejaVuSans-46\"/>\n       <use x=\"95.410156\" xlink:href=\"#DejaVuSans-53\"/>\n      </g>\n     </g>\n    </g>\n    <g id=\"text_27\">\n     <!-- Density -->\n     <g transform=\"translate(210.141619 134.928594)rotate(-90)scale(0.1 -0.1)\">\n      <use xlink:href=\"#DejaVuSans-68\"/>\n      <use x=\"77.001953\" xlink:href=\"#DejaVuSans-101\"/>\n      <use x=\"138.525391\" xlink:href=\"#DejaVuSans-110\"/>\n      <use x=\"201.904297\" xlink:href=\"#DejaVuSans-115\"/>\n      <use x=\"254.003906\" xlink:href=\"#DejaVuSans-105\"/>\n      <use x=\"281.787109\" xlink:href=\"#DejaVuSans-116\"/>\n      <use x=\"320.996094\" xlink:href=\"#DejaVuSans-121\"/>\n     </g>\n    </g>\n   </g>\n   <g id=\"line2d_26\">\n    <path clip-path=\"url(#pbb1af77b88)\" d=\"M 246.041787 224.143637 \nL 247.43221 223.817776 \nL 248.822634 223.318257 \nL 250.213057 222.578086 \nL 251.60348 221.518522 \nL 252.993903 220.054185 \nL 254.384326 218.102088 \nL 255.77475 215.594594 \nL 257.165173 212.495395 \nL 258.555596 208.816408 \nL 260.641231 202.39412 \nL 264.8125 188.734447 \nL 266.202923 184.975829 \nL 267.593347 182.119191 \nL 268.288558 181.107313 \nL 268.98377 180.404492 \nL 269.678981 180.026308 \nL 270.374193 179.981215 \nL 271.069405 180.270225 \nL 271.764616 180.886867 \nL 272.459828 181.817436 \nL 273.155039 183.04149 \nL 274.545463 186.25931 \nL 275.935886 190.275174 \nL 278.716732 199.462302 \nL 280.802367 206.211959 \nL 282.19279 210.224516 \nL 283.583213 213.696767 \nL 284.973637 216.578266 \nL 286.36406 218.876615 \nL 287.754483 220.641536 \nL 289.144906 221.948 \nL 290.535329 222.881172 \nL 291.925752 223.524838 \nL 293.316176 223.95385 \nL 295.40181 224.326958 \nL 298.182657 224.541016 \nL 303.049138 224.630113 \nL 325.991121 224.617813 \nL 330.16239 224.461119 \nL 332.248025 224.181007 \nL 333.638448 223.811404 \nL 335.028871 223.188404 \nL 336.419295 222.17217 \nL 337.114506 221.458277 \nL 337.809718 220.568532 \nL 338.504929 219.468919 \nL 339.200141 218.121417 \nL 339.895353 216.484199 \nL 340.590564 214.512047 \nL 341.285776 212.157018 \nL 341.980987 209.369383 \nL 343.371411 202.296158 \nL 344.761834 192.913258 \nL 346.152257 180.92208 \nL 347.54268 166.179857 \nL 348.933103 148.77759 \nL 351.018738 118.631981 \nL 355.190008 55.601389 \nL 356.580431 38.659365 \nL 357.275642 31.744976 \nL 357.970854 26.068959 \nL 358.666066 21.753852 \nL 359.361277 18.894439 \nL 360.056489 17.554284 \nL 360.7517 17.763383 \nL 361.446912 19.517046 \nL 362.142124 22.776075 \nL 362.837335 27.46822 \nL 363.532547 33.49084 \nL 364.92297 48.988263 \nL 366.313393 68.00137 \nL 372.570298 160.116684 \nL 373.960721 175.855915 \nL 375.351144 188.846348 \nL 376.741567 199.154084 \nL 378.13199 207.029939 \nL 379.522413 212.831688 \nL 380.912837 216.956109 \nL 381.608048 218.510991 \nL 382.30326 219.787775 \nL 382.998471 220.827295 \nL 384.388895 222.338333 \nL 384.388895 222.338333 \n\" style=\"fill:none;stroke:#1f77b4;stroke-linecap:square;stroke-width:1.5;\"/>\n   </g>\n   <g id=\"patch_8\">\n    <path d=\"M 239.124432 224.64 \nL 239.124432 7.2 \n\" style=\"fill:none;stroke:#000000;stroke-linecap:square;stroke-linejoin:miter;stroke-width:0.8;\"/>\n   </g>\n   <g id=\"patch_9\">\n    <path d=\"M 391.30625 224.64 \nL 391.30625 7.2 \n\" style=\"fill:none;stroke:#000000;stroke-linecap:square;stroke-linejoin:miter;stroke-width:0.8;\"/>\n   </g>\n   <g id=\"patch_10\">\n    <path d=\"M 239.124432 224.64 \nL 391.30625 224.64 \n\" style=\"fill:none;stroke:#000000;stroke-linecap:square;stroke-linejoin:miter;stroke-width:0.8;\"/>\n   </g>\n   <g id=\"patch_11\">\n    <path d=\"M 239.124432 7.2 \nL 391.30625 7.2 \n\" style=\"fill:none;stroke:#000000;stroke-linecap:square;stroke-linejoin:miter;stroke-width:0.8;\"/>\n   </g>\n  </g>\n </g>\n <defs>\n  <clipPath id=\"p93fd3d562a\">\n   <rect height=\"217.44\" width=\"152.181818\" x=\"56.50625\" y=\"7.2\"/>\n  </clipPath>\n  <clipPath id=\"pbb1af77b88\">\n   <rect height=\"217.44\" width=\"152.181818\" x=\"239.124432\" y=\"7.2\"/>\n  </clipPath>\n </defs>\n</svg>\n",
      "image/png": "[encoded data removed]"
     },
     "metadata": {
      "needs_background": "light"
     }
    }
   ],
   "source": [
    "plt.subplot(1,2,1)\n",
    "sns.kdeplot(train.lotfrontage)\n",
    "frontagereform = train.lotfrontage.values.reshape(-1,1)\n",
    "lotfrontage = Normalizer().fit(frontagereform)\n",
    "plt.subplot(1,2,2)\n",
    "sns.kdeplot(lotfrontage.transform(frontagereform)[:, 0])"
   ]
  },
  {
   "cell_type": "code",
   "execution_count": 6,
   "metadata": {},
   "outputs": [],
   "source": [
    "from sklearn.preprocessing import RobustScaler, OrdinalEncoder"
   ]
  },
  {
   "cell_type": "code",
   "execution_count": 7,
   "metadata": {},
   "outputs": [],
   "source": [
    "ordinalEnc = OrdinalEncoder()\n",
    "train[ordinals] = ordinalEnc.fit_transform(train[ordinals])\n",
    "test[ordinals] = ordinalEnc.fit_transform(test[ordinals])"
   ]
  },
  {
   "cell_type": "code",
   "execution_count": 8,
   "metadata": {},
   "outputs": [],
   "source": [
    "train = pd.get_dummies(train, columns = dummys)\n",
    "test = pd.get_dummies(test, columns = dummys)"
   ]
  },
  {
   "cell_type": "code",
   "execution_count": null,
   "metadata": {},
   "outputs": [],
   "source": [
    "train.shape"
   ]
  },
  {
   "source": [
    "# Modeling the data for prediction"
   ],
   "cell_type": "markdown",
   "metadata": {}
  },
  {
   "cell_type": "code",
   "execution_count": 9,
   "metadata": {},
   "outputs": [
    {
     "output_type": "execute_result",
     "data": {
      "text/plain": [
       "((1460, 232), (1460,), (1459, 217))"
      ]
     },
     "metadata": {},
     "execution_count": 9
    }
   ],
   "source": [
    "x_train = train.drop(\"saleprice\", axis=1)\n",
    "y_train = train[\"saleprice\"]\n",
    "x_test = test\n",
    "x_train.shape, y_train.shape, x_test.shape"
   ]
  },
  {
   "cell_type": "code",
   "execution_count": 10,
   "metadata": {},
   "outputs": [
    {
     "output_type": "stream",
     "name": "stdout",
     "text": [
      "0    1458\n1       2\nName: heating_OthW, dtype: int64\n0    1458\n1       2\nName: exterior1st_Stone, dtype: int64\n0    1459\n1       1\nName: roofmatl_Roll, dtype: int64\n0    1459\n1       1\nName: roofmatl_Membran, dtype: int64\n0    1452\n1       8\nName: housestyle_2.5Fin, dtype: int64\n0    1459\n1       1\nName: electrical_Mix, dtype: int64\n0    1459\n1       1\nName: exterior1st_ImStucc, dtype: int64\n0    1458\n1       2\nName: condition2_RRNn, dtype: int64\n0    1459\n1       1\nName: roofmatl_ClyTile, dtype: int64\n0    1459\n1       1\nName: heating_Floor, dtype: int64\n0    1459\n1       1\nName: roofmatl_Metal, dtype: int64\n0    1459\n1       1\nName: condition2_RRAe, dtype: int64\n0    1459\n1       1\nName: condition2_RRAn, dtype: int64\n0    1459\n1       1\nName: exterior2nd_Other, dtype: int64\n0    1459\n1       1\nName: miscfeature_TenC, dtype: int64\n"
     ]
    }
   ],
   "source": [
    "for i in list(set(x_train).difference(set(x_test))):\n",
    "    print(x_train[i].value_counts())"
   ]
  },
  {
   "cell_type": "code",
   "execution_count": 11,
   "metadata": {},
   "outputs": [],
   "source": [
    "x_train = x_train.drop(list(set(x_train).difference(set(x_test))), axis=1)"
   ]
  },
  {
   "cell_type": "code",
   "execution_count": 12,
   "metadata": {},
   "outputs": [
    {
     "output_type": "execute_result",
     "data": {
      "text/plain": [
       "((1460, 217), (1459, 217))"
      ]
     },
     "metadata": {},
     "execution_count": 12
    }
   ],
   "source": [
    "x_train.shape, x_test.shape"
   ]
  },
  {
   "cell_type": "code",
   "execution_count": 13,
   "metadata": {},
   "outputs": [
    {
     "output_type": "execute_result",
     "data": {
      "text/plain": [
       "GradientBoostingRegressor(random_state=0)"
      ]
     },
     "metadata": {},
     "execution_count": 13
    }
   ],
   "source": [
    "from sklearn.ensemble import GradientBoostingRegressor\n",
    "clf = GradientBoostingRegressor(random_state=0)\n",
    "clf.fit(x_train, y_train)"
   ]
  },
  {
   "cell_type": "code",
   "execution_count": 14,
   "metadata": {},
   "outputs": [],
   "source": [
    "predictions = clf.predict(x_test)"
   ]
  },
  {
   "cell_type": "code",
   "execution_count": 15,
   "metadata": {},
   "outputs": [
    {
     "output_type": "execute_result",
     "data": {
      "text/plain": [
       "     Id      SalePrice\n",
       "0  1461  122807.296749\n",
       "1  1462  163449.222662\n",
       "2  1463  177462.872343\n",
       "3  1464  177857.038802\n",
       "4  1465  197217.119865"
      ],
      "text/html": "<div>\n<style scoped>\n    .dataframe tbody tr th:only-of-type {\n        vertical-align: middle;\n    }\n\n    .dataframe tbody tr th {\n        vertical-align: top;\n    }\n\n    .dataframe thead th {\n        text-align: right;\n    }\n</style>\n<table border=\"1\" class=\"dataframe\">\n  <thead>\n    <tr style=\"text-align: right;\">\n      <th></th>\n      <th>Id</th>\n      <th>SalePrice</th>\n    </tr>\n  </thead>\n  <tbody>\n    <tr>\n      <th>0</th>\n      <td>1461</td>\n      <td>122807.296749</td>\n    </tr>\n    <tr>\n      <th>1</th>\n      <td>1462</td>\n      <td>163449.222662</td>\n    </tr>\n    <tr>\n      <th>2</th>\n      <td>1463</td>\n      <td>177462.872343</td>\n    </tr>\n    <tr>\n      <th>3</th>\n      <td>1464</td>\n      <td>177857.038802</td>\n    </tr>\n    <tr>\n      <th>4</th>\n      <td>1465</td>\n      <td>197217.119865</td>\n    </tr>\n  </tbody>\n</table>\n</div>"
     },
     "metadata": {},
     "execution_count": 15
    }
   ],
   "source": [
    "submission = {'Id': x_test.index.values, 'SalePrice': predictions}\n",
    "final_submissions = pd.DataFrame(submission)\n",
    "final_submissions.head()"
   ]
  },
  {
   "cell_type": "code",
   "execution_count": 22,
   "metadata": {},
   "outputs": [],
   "source": [
    "from sklearn.linear_model import ElasticNet, Lasso, BayesianRidge, LassoLarsIC\n",
    "from sklearn.ensemble import RandomForestRegressor, GradientBoostingRegressor\n",
    "from sklearn.kernel_ridge import KernelRidge\n",
    "from sklearn.pipeline import make_pipeline\n",
    "from sklearn.preprocessing import StandardScaler\n",
    "from sklearn.base import BaseEstimator, TransformerMixin, RegressorMixin, clone\n",
    "from sklearn.model_selection import KFold, cross_val_score, train_test_split\n",
    "from sklearn.metrics import mean_squared_error\n",
    "import xgboost as xgb\n",
    "import lightgbm as lgb \n",
    "from sklearn.svm import SVR\n",
    "\n",
    "KFold_Score = pd.DataFrame()\n",
    "regressors = ['ElasticNet', 'Lasso', 'BayesianRidge', 'LassoLarsIC', 'RandomForestRegressor', 'GrandientBoostingResgressor', 'KernelRidge', 'XGBRegressor', 'LGBMRegressor', 'SVR']\n",
    "models = [ElasticNet(random_state=0), \n",
    "            Lasso(), \n",
    "            BayesianRidge(compute_score=True), \n",
    "            LassoLarsIC(criterion='bic'), \n",
    "            RandomForestRegressor(random_state=0), \n",
    "            GradientBoostingRegressor(random_state=0), \n",
    "            KernelRidge(), \n",
    "            xgb.XGBRegressor(),\n",
    "            lgb.LGBMRegressor(), \n",
    "            make_pipeline(StandardScaler(), SVR(C=1.0, epsilon=0.2))]\n",
    "\n",
    "j = 0\n",
    "for model in models:\n",
    "    cv = KFold(n_splits=5, random_state=0, shuffle=True)\n",
    "    KFold_Score[regressors[j]] = (cross_val_score(model, x_train, np.ravel(y_train), scoring = 'neg_mean_squared_error', cv=cv))\n",
    "    j = j+1"
   ]
  },
  {
   "cell_type": "code",
   "execution_count": 23,
   "metadata": {},
   "outputs": [
    {
     "output_type": "execute_result",
     "data": {
      "text/plain": [
       "                                   Fold 1        Fold 2        Fold 3  \\\n",
       "GrandientBoostingResgressor -7.665053e+08 -6.384071e+08 -1.169674e+09   \n",
       "LGBMRegressor               -1.103722e+09 -7.061821e+08 -1.154664e+09   \n",
       "RandomForestRegressor       -1.050684e+09 -6.682403e+08 -1.089465e+09   \n",
       "XGBRegressor                -1.056317e+09 -8.031145e+08 -1.376386e+09   \n",
       "BayesianRidge               -2.042354e+09 -6.675327e+08 -1.305643e+09   \n",
       "ElasticNet                  -2.351532e+09 -6.856769e+08 -1.427489e+09   \n",
       "KernelRidge                 -2.433447e+09 -7.452214e+08 -1.876412e+09   \n",
       "LassoLarsIC                 -2.253495e+09 -1.062079e+09 -1.827926e+09   \n",
       "Lasso                       -3.124165e+09 -8.311785e+08 -2.324545e+09   \n",
       "SVR                         -7.239989e+09 -5.672621e+09 -8.016574e+09   \n",
       "\n",
       "                                   Fold 4        Fold 5          Mean  \n",
       "GrandientBoostingResgressor -5.840417e+08 -4.387023e+08 -7.194661e+08  \n",
       "LGBMRegressor               -7.193796e+08 -5.774835e+08 -8.522863e+08  \n",
       "RandomForestRegressor       -8.853090e+08 -5.892826e+08 -8.565963e+08  \n",
       "XGBRegressor                -7.982655e+08 -5.354808e+08 -9.139128e+08  \n",
       "BayesianRidge               -8.301272e+08 -6.239536e+08 -1.093922e+09  \n",
       "ElasticNet                  -8.774071e+08 -6.745714e+08 -1.203335e+09  \n",
       "KernelRidge                 -9.174280e+08 -7.335295e+08 -1.341208e+09  \n",
       "LassoLarsIC                 -1.610605e+09 -1.022157e+09 -1.555252e+09  \n",
       "Lasso                       -9.183965e+08 -1.001794e+09 -1.640016e+09  \n",
       "SVR                         -7.332095e+09 -4.955632e+09 -6.643382e+09  "
      ],
      "text/html": "<div>\n<style scoped>\n    .dataframe tbody tr th:only-of-type {\n        vertical-align: middle;\n    }\n\n    .dataframe tbody tr th {\n        vertical-align: top;\n    }\n\n    .dataframe thead th {\n        text-align: right;\n    }\n</style>\n<table border=\"1\" class=\"dataframe\">\n  <thead>\n    <tr style=\"text-align: right;\">\n      <th></th>\n      <th>Fold 1</th>\n      <th>Fold 2</th>\n      <th>Fold 3</th>\n      <th>Fold 4</th>\n      <th>Fold 5</th>\n      <th>Mean</th>\n    </tr>\n  </thead>\n  <tbody>\n    <tr>\n      <th>GrandientBoostingResgressor</th>\n      <td>-7.665053e+08</td>\n      <td>-6.384071e+08</td>\n      <td>-1.169674e+09</td>\n      <td>-5.840417e+08</td>\n      <td>-4.387023e+08</td>\n      <td>-7.194661e+08</td>\n    </tr>\n    <tr>\n      <th>LGBMRegressor</th>\n      <td>-1.103722e+09</td>\n      <td>-7.061821e+08</td>\n      <td>-1.154664e+09</td>\n      <td>-7.193796e+08</td>\n      <td>-5.774835e+08</td>\n      <td>-8.522863e+08</td>\n    </tr>\n    <tr>\n      <th>RandomForestRegressor</th>\n      <td>-1.050684e+09</td>\n      <td>-6.682403e+08</td>\n      <td>-1.089465e+09</td>\n      <td>-8.853090e+08</td>\n      <td>-5.892826e+08</td>\n      <td>-8.565963e+08</td>\n    </tr>\n    <tr>\n      <th>XGBRegressor</th>\n      <td>-1.056317e+09</td>\n      <td>-8.031145e+08</td>\n      <td>-1.376386e+09</td>\n      <td>-7.982655e+08</td>\n      <td>-5.354808e+08</td>\n      <td>-9.139128e+08</td>\n    </tr>\n    <tr>\n      <th>BayesianRidge</th>\n      <td>-2.042354e+09</td>\n      <td>-6.675327e+08</td>\n      <td>-1.305643e+09</td>\n      <td>-8.301272e+08</td>\n      <td>-6.239536e+08</td>\n      <td>-1.093922e+09</td>\n    </tr>\n    <tr>\n      <th>ElasticNet</th>\n      <td>-2.351532e+09</td>\n      <td>-6.856769e+08</td>\n      <td>-1.427489e+09</td>\n      <td>-8.774071e+08</td>\n      <td>-6.745714e+08</td>\n      <td>-1.203335e+09</td>\n    </tr>\n    <tr>\n      <th>KernelRidge</th>\n      <td>-2.433447e+09</td>\n      <td>-7.452214e+08</td>\n      <td>-1.876412e+09</td>\n      <td>-9.174280e+08</td>\n      <td>-7.335295e+08</td>\n      <td>-1.341208e+09</td>\n    </tr>\n    <tr>\n      <th>LassoLarsIC</th>\n      <td>-2.253495e+09</td>\n      <td>-1.062079e+09</td>\n      <td>-1.827926e+09</td>\n      <td>-1.610605e+09</td>\n      <td>-1.022157e+09</td>\n      <td>-1.555252e+09</td>\n    </tr>\n    <tr>\n      <th>Lasso</th>\n      <td>-3.124165e+09</td>\n      <td>-8.311785e+08</td>\n      <td>-2.324545e+09</td>\n      <td>-9.183965e+08</td>\n      <td>-1.001794e+09</td>\n      <td>-1.640016e+09</td>\n    </tr>\n    <tr>\n      <th>SVR</th>\n      <td>-7.239989e+09</td>\n      <td>-5.672621e+09</td>\n      <td>-8.016574e+09</td>\n      <td>-7.332095e+09</td>\n      <td>-4.955632e+09</td>\n      <td>-6.643382e+09</td>\n    </tr>\n  </tbody>\n</table>\n</div>"
     },
     "metadata": {},
     "execution_count": 23
    }
   ],
   "source": [
    "mean = pd.DataFrame(KFold_Score.mean(), index= regressors)\n",
    "KFold_Score = pd.concat([KFold_Score,mean.T])\n",
    "KFold_Score.index=['Fold 1','Fold 2','Fold 3','Fold 4','Fold 5','Mean']\n",
    "KFold_Score.T.sort_values(by=['Mean'], ascending = False)"
   ]
  },
  {
   "cell_type": "code",
   "execution_count": 16,
   "metadata": {},
   "outputs": [
    {
     "output_type": "execute_result",
     "data": {
      "text/plain": [
       "     Id      SalePrice\n",
       "0  1461  122807.296749\n",
       "1  1462  163449.222662\n",
       "2  1463  177462.872343\n",
       "3  1464  177857.038802\n",
       "4  1465  197217.119865"
      ],
      "text/html": "<div>\n<style scoped>\n    .dataframe tbody tr th:only-of-type {\n        vertical-align: middle;\n    }\n\n    .dataframe tbody tr th {\n        vertical-align: top;\n    }\n\n    .dataframe thead th {\n        text-align: right;\n    }\n</style>\n<table border=\"1\" class=\"dataframe\">\n  <thead>\n    <tr style=\"text-align: right;\">\n      <th></th>\n      <th>Id</th>\n      <th>SalePrice</th>\n    </tr>\n  </thead>\n  <tbody>\n    <tr>\n      <th>0</th>\n      <td>1461</td>\n      <td>122807.296749</td>\n    </tr>\n    <tr>\n      <th>1</th>\n      <td>1462</td>\n      <td>163449.222662</td>\n    </tr>\n    <tr>\n      <th>2</th>\n      <td>1463</td>\n      <td>177462.872343</td>\n    </tr>\n    <tr>\n      <th>3</th>\n      <td>1464</td>\n      <td>177857.038802</td>\n    </tr>\n    <tr>\n      <th>4</th>\n      <td>1465</td>\n      <td>197217.119865</td>\n    </tr>\n  </tbody>\n</table>\n</div>"
     },
     "metadata": {},
     "execution_count": 16
    }
   ],
   "source": [
    "final_submissions.to_csv('submission_house_price.csv', index=False)\n",
    "final_submissions.head()"
   ]
  },
  {
   "cell_type": "code",
   "execution_count": null,
   "metadata": {},
   "outputs": [],
   "source": []
  }
 ]
}